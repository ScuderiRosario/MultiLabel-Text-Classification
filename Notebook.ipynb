{
 "cells": [
  {
   "cell_type": "markdown",
   "id": "bc8617de",
   "metadata": {},
   "source": [
    "# Multi-Label Text Classification\n",
    "###### Rosario Scuderi"
   ]
  },
  {
   "cell_type": "markdown",
   "id": "84dc9efc",
   "metadata": {},
   "source": [
    "![Titolo](https://wallpapercave.com/wp/wp5342493.jpg)"
   ]
  },
  {
   "cell_type": "markdown",
   "id": "e0f23eb3",
   "metadata": {},
   "source": [
    "<div class=\"list-group\" id=\"list-tab\" role=\"tablist\">\n",
    "<h2 class=\"list-group-item list-group-item-action active\" data-toggle=\"list\" style='background:light-blue; border:0; color:white' role=\"tab\" aria-controls=\"home\"><center>Introduzione</center></h2>\n",
    "\n",
    "    \n",
    "\n",
    "L'obbiettivo di questo notebook è mostrare l'implementazione di un **classificatore multi-label** che sia in grado di associare uno o più generi ad una determinata serie anime, utilizzando le rispettive **sinossi**.\n",
    "\n",
    "In primis, si eseguirà un processo di **Data Cleaning** per testare la qualità dei dati e, qualora fosse necessario, modificarli in modo da evitare errori e renderli migliori.\n",
    "\n",
    "In un secondo momento, dopo aver effettuato una breve **analisi**, si testeranno diversi classificatori e tra questi verrà effettuato un **confronto**.\n",
    "\n",
    "In generale si effettueranno i seguenti passaggi:\n",
    "   \n",
    "* [**Presentazione del dataset**](#1)\n",
    "* [**Data Cleaning e riorganizzazione del dataset**](#2)\n",
    "* [**Text Processing (NLP)**](#3)\n",
    "* [**Analisi**](#4)\n",
    "* [**Implementazione e confronto  dei classificatori**](#5)\n",
    "* [**Conclusione e considerazioni finali**](#6)"
   ]
  },
  {
   "cell_type": "markdown",
   "id": "0bed4363",
   "metadata": {},
   "source": [
    "<a id=\"1\"></a>\n",
    "<div class=\"list-group\" id=\"list-tab\" role=\"tablist\">\n",
    "<h2 class=\"list-group-item list-group-item-action active\" data-toggle=\"list\" style='background:light-blue; border:0; color:white' role=\"tab\" aria-controls=\"home\"><center>1. Presentazione del dataset</center></h2>\n",
    "    \n",
    "\n",
    "\n",
    "I dati provengono dal databases del sito **[My animelist](https://myanimelist.net/)** e includono informazioni sulle varie serie (generi e sinossi); Inoltre, sono stati estratti tramite processi di scraping dal sito stesso.\n",
    "\n",
    "![logo](https://upload.wikimedia.org/wikipedia/commons/7/7a/MyAnimeList_Logo.png)\n",
    "\n",
    "Per informazioni aggiuntive: **[Info](https://www.kaggle.com/datasets/hernan4444/anime-recommendation-database-2020)**"
   ]
  },
  {
   "cell_type": "markdown",
   "id": "94738c02",
   "metadata": {},
   "source": [
    "#### 1.1 - Importazione del dataset"
   ]
  },
  {
   "cell_type": "code",
   "execution_count": 1,
   "id": "1f9a0a35",
   "metadata": {},
   "outputs": [
    {
     "data": {
      "text/html": [
       "<div>\n",
       "<style scoped>\n",
       "    .dataframe tbody tr th:only-of-type {\n",
       "        vertical-align: middle;\n",
       "    }\n",
       "\n",
       "    .dataframe tbody tr th {\n",
       "        vertical-align: top;\n",
       "    }\n",
       "\n",
       "    .dataframe thead th {\n",
       "        text-align: right;\n",
       "    }\n",
       "</style>\n",
       "<table border=\"1\" class=\"dataframe\">\n",
       "  <thead>\n",
       "    <tr style=\"text-align: right;\">\n",
       "      <th></th>\n",
       "      <th>MAL_ID</th>\n",
       "      <th>Name</th>\n",
       "      <th>Score</th>\n",
       "      <th>Genres</th>\n",
       "      <th>sypnopsis</th>\n",
       "    </tr>\n",
       "  </thead>\n",
       "  <tbody>\n",
       "    <tr>\n",
       "      <th>0</th>\n",
       "      <td>1</td>\n",
       "      <td>Cowboy Bebop</td>\n",
       "      <td>8.78</td>\n",
       "      <td>Action, Adventure, Comedy, Drama, Sci-Fi, Space</td>\n",
       "      <td>In the year 2071, humanity has colonized sever...</td>\n",
       "    </tr>\n",
       "    <tr>\n",
       "      <th>1</th>\n",
       "      <td>5</td>\n",
       "      <td>Cowboy Bebop: Tengoku no Tobira</td>\n",
       "      <td>8.39</td>\n",
       "      <td>Action, Drama, Mystery, Sci-Fi, Space</td>\n",
       "      <td>other day, another bounty—such is the life of ...</td>\n",
       "    </tr>\n",
       "    <tr>\n",
       "      <th>2</th>\n",
       "      <td>6</td>\n",
       "      <td>Trigun</td>\n",
       "      <td>8.24</td>\n",
       "      <td>Action, Sci-Fi, Adventure, Comedy, Drama, Shounen</td>\n",
       "      <td>Vash the Stampede is the man with a $$60,000,0...</td>\n",
       "    </tr>\n",
       "    <tr>\n",
       "      <th>3</th>\n",
       "      <td>7</td>\n",
       "      <td>Witch Hunter Robin</td>\n",
       "      <td>7.27</td>\n",
       "      <td>Action, Mystery, Police, Supernatural, Drama, ...</td>\n",
       "      <td>ches are individuals with special powers like ...</td>\n",
       "    </tr>\n",
       "    <tr>\n",
       "      <th>4</th>\n",
       "      <td>8</td>\n",
       "      <td>Bouken Ou Beet</td>\n",
       "      <td>6.98</td>\n",
       "      <td>Adventure, Fantasy, Shounen, Supernatural</td>\n",
       "      <td>It is the dark century and the people are suff...</td>\n",
       "    </tr>\n",
       "    <tr>\n",
       "      <th>...</th>\n",
       "      <td>...</td>\n",
       "      <td>...</td>\n",
       "      <td>...</td>\n",
       "      <td>...</td>\n",
       "      <td>...</td>\n",
       "    </tr>\n",
       "    <tr>\n",
       "      <th>16209</th>\n",
       "      <td>48481</td>\n",
       "      <td>Daomu Biji Zhi Qinling Shen Shu</td>\n",
       "      <td>Unknown</td>\n",
       "      <td>Adventure, Mystery, Supernatural</td>\n",
       "      <td>No synopsis information has been added to this...</td>\n",
       "    </tr>\n",
       "    <tr>\n",
       "      <th>16210</th>\n",
       "      <td>48483</td>\n",
       "      <td>Mieruko-chan</td>\n",
       "      <td>Unknown</td>\n",
       "      <td>Comedy, Horror, Supernatural</td>\n",
       "      <td>ko is a typical high school student whose life...</td>\n",
       "    </tr>\n",
       "    <tr>\n",
       "      <th>16211</th>\n",
       "      <td>48488</td>\n",
       "      <td>Higurashi no Naku Koro ni Sotsu</td>\n",
       "      <td>Unknown</td>\n",
       "      <td>Mystery, Dementia, Horror, Psychological, Supe...</td>\n",
       "      <td>Sequel to Higurashi no Naku Koro ni Gou .</td>\n",
       "    </tr>\n",
       "    <tr>\n",
       "      <th>16212</th>\n",
       "      <td>48491</td>\n",
       "      <td>Yama no Susume: Next Summit</td>\n",
       "      <td>Unknown</td>\n",
       "      <td>Adventure, Slice of Life, Comedy</td>\n",
       "      <td>New Yama no Susume anime.</td>\n",
       "    </tr>\n",
       "    <tr>\n",
       "      <th>16213</th>\n",
       "      <td>48492</td>\n",
       "      <td>Scarlet Nexus</td>\n",
       "      <td>Unknown</td>\n",
       "      <td>Action, Fantasy</td>\n",
       "      <td>Solar calendar year 2020: grotesque organisms ...</td>\n",
       "    </tr>\n",
       "  </tbody>\n",
       "</table>\n",
       "<p>16214 rows × 5 columns</p>\n",
       "</div>"
      ],
      "text/plain": [
       "       MAL_ID                             Name    Score  \\\n",
       "0           1                     Cowboy Bebop     8.78   \n",
       "1           5  Cowboy Bebop: Tengoku no Tobira     8.39   \n",
       "2           6                           Trigun     8.24   \n",
       "3           7               Witch Hunter Robin     7.27   \n",
       "4           8                   Bouken Ou Beet     6.98   \n",
       "...       ...                              ...      ...   \n",
       "16209   48481  Daomu Biji Zhi Qinling Shen Shu  Unknown   \n",
       "16210   48483                     Mieruko-chan  Unknown   \n",
       "16211   48488  Higurashi no Naku Koro ni Sotsu  Unknown   \n",
       "16212   48491      Yama no Susume: Next Summit  Unknown   \n",
       "16213   48492                    Scarlet Nexus  Unknown   \n",
       "\n",
       "                                                  Genres  \\\n",
       "0        Action, Adventure, Comedy, Drama, Sci-Fi, Space   \n",
       "1                  Action, Drama, Mystery, Sci-Fi, Space   \n",
       "2      Action, Sci-Fi, Adventure, Comedy, Drama, Shounen   \n",
       "3      Action, Mystery, Police, Supernatural, Drama, ...   \n",
       "4              Adventure, Fantasy, Shounen, Supernatural   \n",
       "...                                                  ...   \n",
       "16209                   Adventure, Mystery, Supernatural   \n",
       "16210                       Comedy, Horror, Supernatural   \n",
       "16211  Mystery, Dementia, Horror, Psychological, Supe...   \n",
       "16212                   Adventure, Slice of Life, Comedy   \n",
       "16213                                    Action, Fantasy   \n",
       "\n",
       "                                               sypnopsis  \n",
       "0      In the year 2071, humanity has colonized sever...  \n",
       "1      other day, another bounty—such is the life of ...  \n",
       "2      Vash the Stampede is the man with a $$60,000,0...  \n",
       "3      ches are individuals with special powers like ...  \n",
       "4      It is the dark century and the people are suff...  \n",
       "...                                                  ...  \n",
       "16209  No synopsis information has been added to this...  \n",
       "16210  ko is a typical high school student whose life...  \n",
       "16211          Sequel to Higurashi no Naku Koro ni Gou .  \n",
       "16212                          New Yama no Susume anime.  \n",
       "16213  Solar calendar year 2020: grotesque organisms ...  \n",
       "\n",
       "[16214 rows x 5 columns]"
      ]
     },
     "execution_count": 1,
     "metadata": {},
     "output_type": "execute_result"
    }
   ],
   "source": [
    "import pandas as pd\n",
    "import csv\n",
    "df = pd.read_csv ('anime_with_synopsis.csv')\n",
    "df"
   ]
  },
  {
   "cell_type": "markdown",
   "id": "c72bd793",
   "metadata": {},
   "source": [
    "Il dataset contiene **16214** records con i **5 attributi** (MAL_ID, Name, Score, Genres, sypnopsis). Molti di questi però non contengono abbastanza informazioni e quindi è necessario effettuare un processo di data cleaning."
   ]
  },
  {
   "cell_type": "markdown",
   "id": "16bf7781",
   "metadata": {},
   "source": [
    "<a id=\"2\"></a>\n",
    "<div class=\"list-group\" id=\"list-tab\" role=\"tablist\">\n",
    "<h2 class=\"list-group-item list-group-item-action active\" data-toggle=\"list\" style='background:orange; border:0; color:white' role=\"tab\" aria-controls=\"home\"><center>2. Data Cleaning e riorganizzazione del dataset</center></h2>\n",
    "    \n",
    "\n",
    "\n",
    "![dc](https://i.ytimg.com/vi/QStMjyxVkqw/maxresdefault.jpg)\n",
    "\n",
    "Per limitare il numero di possibili errori e aumentare le prestazioni dei vari classificatori è utile effettuare un processo di **Data Cleaning** sul dataset."
   ]
  },
  {
   "cell_type": "code",
   "execution_count": 2,
   "id": "e82728b8",
   "metadata": {},
   "outputs": [],
   "source": [
    "df=df.drop(['Score'], axis = 1)"
   ]
  },
  {
   "cell_type": "markdown",
   "id": "6366a1b9",
   "metadata": {},
   "source": [
    "#### 2.1 - Ricerca ed eliminazione dei duplicati"
   ]
  },
  {
   "cell_type": "code",
   "execution_count": 3,
   "id": "c6b70a90",
   "metadata": {},
   "outputs": [
    {
     "data": {
      "text/html": [
       "<div>\n",
       "<style scoped>\n",
       "    .dataframe tbody tr th:only-of-type {\n",
       "        vertical-align: middle;\n",
       "    }\n",
       "\n",
       "    .dataframe tbody tr th {\n",
       "        vertical-align: top;\n",
       "    }\n",
       "\n",
       "    .dataframe thead th {\n",
       "        text-align: right;\n",
       "    }\n",
       "</style>\n",
       "<table border=\"1\" class=\"dataframe\">\n",
       "  <thead>\n",
       "    <tr style=\"text-align: right;\">\n",
       "      <th></th>\n",
       "      <th>MAL_ID</th>\n",
       "      <th>Name</th>\n",
       "      <th>Genres</th>\n",
       "      <th>sypnopsis</th>\n",
       "    </tr>\n",
       "  </thead>\n",
       "  <tbody>\n",
       "    <tr>\n",
       "      <th>12347</th>\n",
       "      <td>36296</td>\n",
       "      <td>Hinamatsuri</td>\n",
       "      <td>Comedy, Sci-Fi, Seinen, Slice of Life, Superna...</td>\n",
       "      <td>hile reveling in the successful clinching of a...</td>\n",
       "    </tr>\n",
       "    <tr>\n",
       "      <th>14117</th>\n",
       "      <td>39143</td>\n",
       "      <td>Youkoso! Ecolo Shima</td>\n",
       "      <td>Kids</td>\n",
       "      <td>vironmental education film aimed at children. ...</td>\n",
       "    </tr>\n",
       "    <tr>\n",
       "      <th>16196</th>\n",
       "      <td>48417</td>\n",
       "      <td>Maou Gakuin no Futekigousha: Shijou Saikyou no...</td>\n",
       "      <td>Magic, Fantasy, School</td>\n",
       "      <td>Second season of Maou Gakuin no Futekigousha: ...</td>\n",
       "    </tr>\n",
       "    <tr>\n",
       "      <th>16197</th>\n",
       "      <td>48418</td>\n",
       "      <td>Maou Gakuin no Futekigousha: Shijou Saikyou no...</td>\n",
       "      <td>Action, Demons, Magic, Fantasy, School</td>\n",
       "      <td>Second half of Maou Gakuin no Futekigousha: Sh...</td>\n",
       "    </tr>\n",
       "  </tbody>\n",
       "</table>\n",
       "</div>"
      ],
      "text/plain": [
       "       MAL_ID                                               Name  \\\n",
       "12347   36296                                        Hinamatsuri   \n",
       "14117   39143                               Youkoso! Ecolo Shima   \n",
       "16196   48417  Maou Gakuin no Futekigousha: Shijou Saikyou no...   \n",
       "16197   48418  Maou Gakuin no Futekigousha: Shijou Saikyou no...   \n",
       "\n",
       "                                                  Genres  \\\n",
       "12347  Comedy, Sci-Fi, Seinen, Slice of Life, Superna...   \n",
       "14117                                               Kids   \n",
       "16196                             Magic, Fantasy, School   \n",
       "16197             Action, Demons, Magic, Fantasy, School   \n",
       "\n",
       "                                               sypnopsis  \n",
       "12347  hile reveling in the successful clinching of a...  \n",
       "14117  vironmental education film aimed at children. ...  \n",
       "16196  Second season of Maou Gakuin no Futekigousha: ...  \n",
       "16197  Second half of Maou Gakuin no Futekigousha: Sh...  "
      ]
     },
     "execution_count": 3,
     "metadata": {},
     "output_type": "execute_result"
    }
   ],
   "source": [
    "df[df.duplicated(['Name'])]"
   ]
  },
  {
   "cell_type": "markdown",
   "id": "c46d4589",
   "metadata": {},
   "source": [
    "All'interno del dataset sono presenti **4 duplciati**."
   ]
  },
  {
   "cell_type": "code",
   "execution_count": 4,
   "id": "1faa1806",
   "metadata": {},
   "outputs": [
    {
     "data": {
      "text/plain": [
       "MAL_ID       16210\n",
       "Name         16210\n",
       "Genres       16210\n",
       "sypnopsis    16202\n",
       "dtype: int64"
      ]
     },
     "execution_count": 4,
     "metadata": {},
     "output_type": "execute_result"
    }
   ],
   "source": [
    "df=df.drop_duplicates(['Name'])\n",
    "df.count()"
   ]
  },
  {
   "cell_type": "markdown",
   "id": "5d9f78aa",
   "metadata": {},
   "source": [
    "Dopo l'eliminazione dei duplicati il dataset conta complessivamente **16210** anime ma **8** di questi non hanno un riassunto."
   ]
  },
  {
   "cell_type": "markdown",
   "id": "6ddd4700",
   "metadata": {},
   "source": [
    "#### 2.2 - Eliminazione degli NA e dei riassunti non validi tra le sinossi"
   ]
  },
  {
   "cell_type": "code",
   "execution_count": 5,
   "id": "e9e5f9ac",
   "metadata": {},
   "outputs": [
    {
     "data": {
      "text/plain": [
       "MAL_ID       16202\n",
       "Name         16202\n",
       "Genres       16202\n",
       "sypnopsis    16202\n",
       "dtype: int64"
      ]
     },
     "execution_count": 5,
     "metadata": {},
     "output_type": "execute_result"
    }
   ],
   "source": [
    "df=df.dropna(subset=[\"sypnopsis\"])\n",
    "df.count()"
   ]
  },
  {
   "cell_type": "markdown",
   "id": "f52589b8",
   "metadata": {},
   "source": [
    "Osservando ed analizzando i dati in maniera più scrupolosa, è possibile notare che, nonostante siano già stati eliminati i valori NA dalla colonna dei riassunti, alcuni di questi non hanno effettivamente un riassunto ma contengono la seguente frase: \n",
    "\n",
    "**\"No synopsis information has been added to this title. Help improve our database by adding a synopsis here .\"**\n",
    "\n",
    "*Esempio*"
   ]
  },
  {
   "cell_type": "code",
   "execution_count": 6,
   "id": "6b8376bc",
   "metadata": {},
   "outputs": [
    {
     "data": {
      "text/html": [
       "<div>\n",
       "<style scoped>\n",
       "    .dataframe tbody tr th:only-of-type {\n",
       "        vertical-align: middle;\n",
       "    }\n",
       "\n",
       "    .dataframe tbody tr th {\n",
       "        vertical-align: top;\n",
       "    }\n",
       "\n",
       "    .dataframe thead th {\n",
       "        text-align: right;\n",
       "    }\n",
       "</style>\n",
       "<table border=\"1\" class=\"dataframe\">\n",
       "  <thead>\n",
       "    <tr style=\"text-align: right;\">\n",
       "      <th></th>\n",
       "      <th>MAL_ID</th>\n",
       "      <th>Name</th>\n",
       "      <th>Genres</th>\n",
       "      <th>sypnopsis</th>\n",
       "    </tr>\n",
       "  </thead>\n",
       "  <tbody>\n",
       "    <tr>\n",
       "      <th>6992</th>\n",
       "      <td>18577</td>\n",
       "      <td>Noobow: Na Kokoro</td>\n",
       "      <td>Kids, Slice of Life</td>\n",
       "      <td>No synopsis information has been added to this...</td>\n",
       "    </tr>\n",
       "  </tbody>\n",
       "</table>\n",
       "</div>"
      ],
      "text/plain": [
       "      MAL_ID               Name               Genres  \\\n",
       "6992   18577  Noobow: Na Kokoro  Kids, Slice of Life   \n",
       "\n",
       "                                              sypnopsis  \n",
       "6992  No synopsis information has been added to this...  "
      ]
     },
     "execution_count": 6,
     "metadata": {},
     "output_type": "execute_result"
    }
   ],
   "source": [
    "df[df['Name']=='Noobow: Na Kokoro']"
   ]
  },
  {
   "cell_type": "markdown",
   "id": "657f9097",
   "metadata": {},
   "source": [
    "*Eliminazione*"
   ]
  },
  {
   "cell_type": "code",
   "execution_count": 7,
   "id": "4beb358a",
   "metadata": {},
   "outputs": [
    {
     "data": {
      "text/plain": [
       "MAL_ID       15493\n",
       "Name         15493\n",
       "Genres       15493\n",
       "sypnopsis    15493\n",
       "dtype: int64"
      ]
     },
     "execution_count": 7,
     "metadata": {},
     "output_type": "execute_result"
    }
   ],
   "source": [
    "df = df.drop(df[df.sypnopsis == 'No synopsis information has been added to this title. Help improve our database by adding a synopsis here .'].index)\n",
    "df.count()"
   ]
  },
  {
   "cell_type": "markdown",
   "id": "4f7e6751",
   "metadata": {},
   "source": [
    "Dal dataset sono stati eliminati **709** record.\n",
    "\n",
    "**PS**. Ora ci sono 15493 elementi.\n",
    "\n",
    "Molte sinossi non riassumono la trama dell'opera ma contengono piccole descrizioni da cui difficilmente è possibile estrarre informazioni utili.\n",
    "\n",
    "*Esempio*"
   ]
  },
  {
   "cell_type": "code",
   "execution_count": 8,
   "id": "65eccc9d",
   "metadata": {},
   "outputs": [
    {
     "data": {
      "text/plain": [
       "6994    Hello Kitty version of Heidi , a novel by Joha...\n",
       "Name: sypnopsis, dtype: object"
      ]
     },
     "execution_count": 8,
     "metadata": {},
     "output_type": "execute_result"
    }
   ],
   "source": [
    "df['sypnopsis'][df['Name']=='Hello Kitty no Alps no Shoujo Heidi II: Klara to no Deai']"
   ]
  },
  {
   "cell_type": "markdown",
   "id": "c04c1a81",
   "metadata": {},
   "source": [
    " *Eliminazione dei riassunti più piccoli di 150 caratteri*"
   ]
  },
  {
   "cell_type": "code",
   "execution_count": 9,
   "id": "cf9ef1eb",
   "metadata": {},
   "outputs": [
    {
     "data": {
      "text/plain": [
       "MAL_ID       10258\n",
       "Name         10258\n",
       "Genres       10258\n",
       "sypnopsis    10258\n",
       "dtype: int64"
      ]
     },
     "execution_count": 9,
     "metadata": {},
     "output_type": "execute_result"
    }
   ],
   "source": [
    "df=df[(df[\"sypnopsis\"].str.len()>150)]\n",
    "df.count()"
   ]
  },
  {
   "cell_type": "markdown",
   "id": "68f0f565",
   "metadata": {},
   "source": [
    "**PS**. Ora ci sono 10258 elementi."
   ]
  },
  {
   "cell_type": "markdown",
   "id": "70baf0ec",
   "metadata": {},
   "source": [
    "#### 2.3 - Eliminazione dei records senza un genere"
   ]
  },
  {
   "cell_type": "code",
   "execution_count": 10,
   "id": "34906c91",
   "metadata": {},
   "outputs": [
    {
     "data": {
      "text/plain": [
       "MAL_ID       10258\n",
       "Name         10258\n",
       "Genres       10258\n",
       "sypnopsis    10258\n",
       "dtype: int64"
      ]
     },
     "execution_count": 10,
     "metadata": {},
     "output_type": "execute_result"
    }
   ],
   "source": [
    "df=df.dropna(subset=[\"Genres\"])\n",
    "df.count()"
   ]
  },
  {
   "cell_type": "markdown",
   "id": "2e993a48",
   "metadata": {},
   "source": [
    "Non ci sono record con l'attributo \"**Genres**\" uguali ad NA ma, analizzando più attentamente, è possibile notare che in alcune t-uple, non è presente un valore **NA**, bensì la parola specifica \"**Unknown**\"."
   ]
  },
  {
   "cell_type": "code",
   "execution_count": 11,
   "id": "c6e662e2",
   "metadata": {},
   "outputs": [
    {
     "data": {
      "text/plain": [
       "MAL_ID       14\n",
       "Name         14\n",
       "Genres       14\n",
       "sypnopsis    14\n",
       "dtype: int64"
      ]
     },
     "execution_count": 11,
     "metadata": {},
     "output_type": "execute_result"
    }
   ],
   "source": [
    "df[(df[\"Genres\"]==\"Unknown\")].count()"
   ]
  },
  {
   "cell_type": "markdown",
   "id": "055b3bcb",
   "metadata": {},
   "source": [
    "Ci sono esattamente **14** elementi senza generi.\n",
    "\n",
    "*Eliminazione*"
   ]
  },
  {
   "cell_type": "code",
   "execution_count": 12,
   "id": "8a252ad6",
   "metadata": {},
   "outputs": [
    {
     "data": {
      "text/plain": [
       "MAL_ID       10244\n",
       "Name         10244\n",
       "Genres       10244\n",
       "sypnopsis    10244\n",
       "dtype: int64"
      ]
     },
     "execution_count": 12,
     "metadata": {},
     "output_type": "execute_result"
    }
   ],
   "source": [
    "df = df.drop(df[(df[\"Genres\"]==\"Unknown\")].index)\n",
    "df.count()\n"
   ]
  },
  {
   "cell_type": "markdown",
   "id": "0090a03c",
   "metadata": {},
   "source": [
    "**PS**. Ora ci sono 10244 elementi."
   ]
  },
  {
   "cell_type": "markdown",
   "id": "abae40c9",
   "metadata": {},
   "source": [
    "#### 2.4 - Ripristino dei riassunti"
   ]
  },
  {
   "cell_type": "markdown",
   "id": "93331963",
   "metadata": {},
   "source": [
    "Alcuni riassunti sono incompleti a causa di problemi dovuti al processo di **scraping** effettuato dal creatore del dataset.\n",
    "\n",
    "*Esempio*\n",
    "\n",
    "\"**other** day, another bounty—such is the life of the often unlucky crew of the Bebop. However, this routine is interrupted when Faye, who is chasing a fairly worthless target on Mars, witnesses an oil tanker suddenly explode, causing mass hysteria...\"\n",
    "\n",
    "**PS**. Manca la parte iniziale.\n",
    "\n",
    "Per ottenere risultati migliori in fase di classificazione, può essere utilie ripristinare i riassunti effettuando lo scraping delle pagine html."
   ]
  },
  {
   "cell_type": "code",
   "execution_count": 13,
   "id": "f8e34714",
   "metadata": {},
   "outputs": [
    {
     "data": {
      "text/html": [
       "<div>\n",
       "<style scoped>\n",
       "    .dataframe tbody tr th:only-of-type {\n",
       "        vertical-align: middle;\n",
       "    }\n",
       "\n",
       "    .dataframe tbody tr th {\n",
       "        vertical-align: top;\n",
       "    }\n",
       "\n",
       "    .dataframe thead th {\n",
       "        text-align: right;\n",
       "    }\n",
       "</style>\n",
       "<table border=\"1\" class=\"dataframe\">\n",
       "  <thead>\n",
       "    <tr style=\"text-align: right;\">\n",
       "      <th></th>\n",
       "      <th>MAL_ID</th>\n",
       "      <th>Name</th>\n",
       "      <th>Genres</th>\n",
       "      <th>sypnopsis</th>\n",
       "    </tr>\n",
       "  </thead>\n",
       "  <tbody>\n",
       "    <tr>\n",
       "      <th>0</th>\n",
       "      <td>1</td>\n",
       "      <td>Cowboy Bebop</td>\n",
       "      <td>Action, Adventure, Comedy, Drama, Sci-Fi, Space</td>\n",
       "      <td>In the year 2071, humanity has colonized sever...</td>\n",
       "    </tr>\n",
       "    <tr>\n",
       "      <th>1</th>\n",
       "      <td>5</td>\n",
       "      <td>Cowboy Bebop: Tengoku no Tobira</td>\n",
       "      <td>Action, Drama, Mystery, Sci-Fi, Space</td>\n",
       "      <td>Another day, another bounty—such is the life o...</td>\n",
       "    </tr>\n",
       "    <tr>\n",
       "      <th>2</th>\n",
       "      <td>6</td>\n",
       "      <td>Trigun</td>\n",
       "      <td>Action, Sci-Fi, Adventure, Comedy, Drama, Shounen</td>\n",
       "      <td>Vash the Stampede is the man with a $$60,000,0...</td>\n",
       "    </tr>\n",
       "    <tr>\n",
       "      <th>3</th>\n",
       "      <td>7</td>\n",
       "      <td>Witch Hunter Robin</td>\n",
       "      <td>Action, Mystery, Police, Supernatural, Drama, ...</td>\n",
       "      <td>Witches are individuals with special powers li...</td>\n",
       "    </tr>\n",
       "    <tr>\n",
       "      <th>4</th>\n",
       "      <td>8</td>\n",
       "      <td>Bouken Ou Beet</td>\n",
       "      <td>Adventure, Fantasy, Shounen, Supernatural</td>\n",
       "      <td>It is the dark century and the people are suff...</td>\n",
       "    </tr>\n",
       "  </tbody>\n",
       "</table>\n",
       "</div>"
      ],
      "text/plain": [
       "   MAL_ID                             Name  \\\n",
       "0       1                     Cowboy Bebop   \n",
       "1       5  Cowboy Bebop: Tengoku no Tobira   \n",
       "2       6                           Trigun   \n",
       "3       7               Witch Hunter Robin   \n",
       "4       8                   Bouken Ou Beet   \n",
       "\n",
       "                                              Genres  \\\n",
       "0    Action, Adventure, Comedy, Drama, Sci-Fi, Space   \n",
       "1              Action, Drama, Mystery, Sci-Fi, Space   \n",
       "2  Action, Sci-Fi, Adventure, Comedy, Drama, Shounen   \n",
       "3  Action, Mystery, Police, Supernatural, Drama, ...   \n",
       "4          Adventure, Fantasy, Shounen, Supernatural   \n",
       "\n",
       "                                           sypnopsis  \n",
       "0  In the year 2071, humanity has colonized sever...  \n",
       "1  Another day, another bounty—such is the life o...  \n",
       "2  Vash the Stampede is the man with a $$60,000,0...  \n",
       "3  Witches are individuals with special powers li...  \n",
       "4  It is the dark century and the people are suff...  "
      ]
     },
     "execution_count": 13,
     "metadata": {},
     "output_type": "execute_result"
    }
   ],
   "source": [
    "from bs4 import BeautifulSoup\n",
    "import string\n",
    "from zipfile import ZipFile\n",
    "import re\n",
    "\n",
    "def get_description(sum_info):\n",
    "    return sum_info.findAll(\"p\", {\"itemprop\": \"description\"})[0].text\n",
    "\n",
    "def extract_zip(input_zip):\n",
    "    input_zip = ZipFile(input_zip)\n",
    "    return {name: input_zip.read(name) for name in input_zip.namelist()}\n",
    "\n",
    "def get_info_anime(anime_id):\n",
    "    data = extract_zip(f\"AnimeZip2/{anime_id}.zip\")\n",
    "    anime_info = data[\"details.html\"].decode()\n",
    "    \n",
    "    soup = BeautifulSoup(anime_info, \"html.parser\")\n",
    "    description = get_description(soup)\n",
    "    description=description.replace('\\n','')\n",
    "    description=\" \".join(description.split())\n",
    "    description=description.replace('\\n','')\n",
    "\n",
    "    return description\n",
    "\n",
    "df['sypnopsis']=df.apply(lambda x : get_info_anime(x['MAL_ID']),axis=1 )\n",
    "df.head(5)"
   ]
  },
  {
   "cell_type": "markdown",
   "id": "37c3bf3d",
   "metadata": {},
   "source": [
    "Alla fine di alcuni riassunti è presente un **riferimento** all'autore o alla fonte da cui è stata estratta la sinossi.\n",
    "\n",
    "*Esempi*\n",
    "\n",
    "- \"...The battle begins. **(Source: ANN)**\"\n",
    "- \"...that will change their lives forever! **(Source: RightStuf)**\"\n",
    "- \"...and regain his reputation as an architect. **[Written by MAL Rewrite]**\"\n",
    "\n",
    "*Eliminazione usando le espressioni regolari.*\n",
    "\n",
    "\n",
    "\n",
    "![re](https://www.ilsoftware.it/public/shots/regular_expression_03_1117.jpg)"
   ]
  },
  {
   "cell_type": "code",
   "execution_count": 14,
   "id": "abc41ce0",
   "metadata": {},
   "outputs": [],
   "source": [
    "def rm_credit(text):\n",
    "    text = re.sub(\"[\\(\\[].*?[\\)\\]]\", \"\", text) \n",
    "    return text\n",
    "df['sypnopsis']=df.apply(lambda x : rm_credit(x['sypnopsis']),axis=1 )\n",
    "df.to_csv('anime_cleaned.csv') "
   ]
  },
  {
   "cell_type": "code",
   "execution_count": 15,
   "id": "619ff384",
   "metadata": {},
   "outputs": [
    {
     "data": {
      "text/html": [
       "<div>\n",
       "<style scoped>\n",
       "    .dataframe tbody tr th:only-of-type {\n",
       "        vertical-align: middle;\n",
       "    }\n",
       "\n",
       "    .dataframe tbody tr th {\n",
       "        vertical-align: top;\n",
       "    }\n",
       "\n",
       "    .dataframe thead th {\n",
       "        text-align: right;\n",
       "    }\n",
       "</style>\n",
       "<table border=\"1\" class=\"dataframe\">\n",
       "  <thead>\n",
       "    <tr style=\"text-align: right;\">\n",
       "      <th></th>\n",
       "      <th>ID</th>\n",
       "      <th>sypnopsis</th>\n",
       "      <th>Genres</th>\n",
       "    </tr>\n",
       "  </thead>\n",
       "  <tbody>\n",
       "    <tr>\n",
       "      <th>0</th>\n",
       "      <td>1</td>\n",
       "      <td>In the year 2071, humanity has colonized sever...</td>\n",
       "      <td>Action, Adventure, Comedy, Drama, Sci-Fi, Space</td>\n",
       "    </tr>\n",
       "    <tr>\n",
       "      <th>1</th>\n",
       "      <td>5</td>\n",
       "      <td>Another day, another bounty—such is the life o...</td>\n",
       "      <td>Action, Drama, Mystery, Sci-Fi, Space</td>\n",
       "    </tr>\n",
       "    <tr>\n",
       "      <th>2</th>\n",
       "      <td>6</td>\n",
       "      <td>Vash the Stampede is the man with a $$60,000,0...</td>\n",
       "      <td>Action, Sci-Fi, Adventure, Comedy, Drama, Shounen</td>\n",
       "    </tr>\n",
       "    <tr>\n",
       "      <th>3</th>\n",
       "      <td>7</td>\n",
       "      <td>Witches are individuals with special powers li...</td>\n",
       "      <td>Action, Mystery, Police, Supernatural, Drama, ...</td>\n",
       "    </tr>\n",
       "    <tr>\n",
       "      <th>4</th>\n",
       "      <td>8</td>\n",
       "      <td>It is the dark century and the people are suff...</td>\n",
       "      <td>Adventure, Fantasy, Shounen, Supernatural</td>\n",
       "    </tr>\n",
       "    <tr>\n",
       "      <th>...</th>\n",
       "      <td>...</td>\n",
       "      <td>...</td>\n",
       "      <td>...</td>\n",
       "    </tr>\n",
       "    <tr>\n",
       "      <th>10239</th>\n",
       "      <td>48466</td>\n",
       "      <td>In the year 2061 AD, Japan has lost its sovere...</td>\n",
       "      <td>Action, Mecha</td>\n",
       "    </tr>\n",
       "    <tr>\n",
       "      <th>10240</th>\n",
       "      <td>48470</td>\n",
       "      <td>The stage is Shibuya. When Ryuuhei Oda was in ...</td>\n",
       "      <td>Action, Adventure, Drama, Magic, Fantasy</td>\n",
       "    </tr>\n",
       "    <tr>\n",
       "      <th>10241</th>\n",
       "      <td>48471</td>\n",
       "      <td>The first astronaut in human history was a vam...</td>\n",
       "      <td>Sci-Fi, Space, Vampire</td>\n",
       "    </tr>\n",
       "    <tr>\n",
       "      <th>10242</th>\n",
       "      <td>48483</td>\n",
       "      <td>Miko is a typical high school student whose li...</td>\n",
       "      <td>Comedy, Horror, Supernatural</td>\n",
       "    </tr>\n",
       "    <tr>\n",
       "      <th>10243</th>\n",
       "      <td>48492</td>\n",
       "      <td>Solar calendar year 2020: grotesque organisms ...</td>\n",
       "      <td>Action, Fantasy</td>\n",
       "    </tr>\n",
       "  </tbody>\n",
       "</table>\n",
       "<p>10244 rows × 3 columns</p>\n",
       "</div>"
      ],
      "text/plain": [
       "          ID                                          sypnopsis  \\\n",
       "0          1  In the year 2071, humanity has colonized sever...   \n",
       "1          5  Another day, another bounty—such is the life o...   \n",
       "2          6  Vash the Stampede is the man with a $$60,000,0...   \n",
       "3          7  Witches are individuals with special powers li...   \n",
       "4          8  It is the dark century and the people are suff...   \n",
       "...      ...                                                ...   \n",
       "10239  48466  In the year 2061 AD, Japan has lost its sovere...   \n",
       "10240  48470  The stage is Shibuya. When Ryuuhei Oda was in ...   \n",
       "10241  48471  The first astronaut in human history was a vam...   \n",
       "10242  48483  Miko is a typical high school student whose li...   \n",
       "10243  48492  Solar calendar year 2020: grotesque organisms ...   \n",
       "\n",
       "                                                  Genres  \n",
       "0        Action, Adventure, Comedy, Drama, Sci-Fi, Space  \n",
       "1                  Action, Drama, Mystery, Sci-Fi, Space  \n",
       "2      Action, Sci-Fi, Adventure, Comedy, Drama, Shounen  \n",
       "3      Action, Mystery, Police, Supernatural, Drama, ...  \n",
       "4              Adventure, Fantasy, Shounen, Supernatural  \n",
       "...                                                  ...  \n",
       "10239                                      Action, Mecha  \n",
       "10240           Action, Adventure, Drama, Magic, Fantasy  \n",
       "10241                             Sci-Fi, Space, Vampire  \n",
       "10242                       Comedy, Horror, Supernatural  \n",
       "10243                                    Action, Fantasy  \n",
       "\n",
       "[10244 rows x 3 columns]"
      ]
     },
     "execution_count": 15,
     "metadata": {},
     "output_type": "execute_result"
    }
   ],
   "source": [
    "anime = pd.read_csv(\"anime_cleaned.csv\")\n",
    "anime =anime.drop(\"Unnamed: 0\",axis=1)\n",
    "anime = anime.drop(\"Name\",axis=1)\n",
    "anime = anime.rename(columns = {'MAL_ID':'ID'})\n",
    "anime = anime[['ID', 'sypnopsis', 'Genres']]\n",
    "anime"
   ]
  },
  {
   "cell_type": "markdown",
   "id": "64b58219",
   "metadata": {},
   "source": [
    "Per effettuare la classificazione multi-label, sarà necessario, più avanti, \"**scomporre**\" la lista di generi, in modo da creare un numero di colonne binarie (1 or 0) pari al numero di generi diversi presenti nel dataset.\n",
    "Per farlo utilizzeremo la libreria **sklearn** ma prima è necessario effettuare una conversione delle \"liste\" di generi (da stringa a lista).\n"
   ]
  },
  {
   "cell_type": "code",
   "execution_count": 16,
   "id": "fe875b03",
   "metadata": {},
   "outputs": [
    {
     "data": {
      "text/html": [
       "<div>\n",
       "<style scoped>\n",
       "    .dataframe tbody tr th:only-of-type {\n",
       "        vertical-align: middle;\n",
       "    }\n",
       "\n",
       "    .dataframe tbody tr th {\n",
       "        vertical-align: top;\n",
       "    }\n",
       "\n",
       "    .dataframe thead th {\n",
       "        text-align: right;\n",
       "    }\n",
       "</style>\n",
       "<table border=\"1\" class=\"dataframe\">\n",
       "  <thead>\n",
       "    <tr style=\"text-align: right;\">\n",
       "      <th></th>\n",
       "      <th>ID</th>\n",
       "      <th>sypnopsis</th>\n",
       "      <th>Genres</th>\n",
       "    </tr>\n",
       "  </thead>\n",
       "  <tbody>\n",
       "    <tr>\n",
       "      <th>0</th>\n",
       "      <td>1</td>\n",
       "      <td>In the year 2071, humanity has colonized sever...</td>\n",
       "      <td>[Action, Adventure, Comedy, Drama, Sci-Fi, Space]</td>\n",
       "    </tr>\n",
       "    <tr>\n",
       "      <th>1</th>\n",
       "      <td>5</td>\n",
       "      <td>Another day, another bounty—such is the life o...</td>\n",
       "      <td>[Action, Drama, Mystery, Sci-Fi, Space]</td>\n",
       "    </tr>\n",
       "    <tr>\n",
       "      <th>2</th>\n",
       "      <td>6</td>\n",
       "      <td>Vash the Stampede is the man with a $$60,000,0...</td>\n",
       "      <td>[Action, Sci-Fi, Adventure, Comedy, Drama, Sho...</td>\n",
       "    </tr>\n",
       "  </tbody>\n",
       "</table>\n",
       "</div>"
      ],
      "text/plain": [
       "   ID                                          sypnopsis  \\\n",
       "0   1  In the year 2071, humanity has colonized sever...   \n",
       "1   5  Another day, another bounty—such is the life o...   \n",
       "2   6  Vash the Stampede is the man with a $$60,000,0...   \n",
       "\n",
       "                                              Genres  \n",
       "0  [Action, Adventure, Comedy, Drama, Sci-Fi, Space]  \n",
       "1            [Action, Drama, Mystery, Sci-Fi, Space]  \n",
       "2  [Action, Sci-Fi, Adventure, Comedy, Drama, Sho...  "
      ]
     },
     "execution_count": 16,
     "metadata": {},
     "output_type": "execute_result"
    }
   ],
   "source": [
    "#In realtà è necessario eliminare anche gli spazi \n",
    "#la loro presenza non permette all'algoritmo di leggere correttamente le etichette\n",
    "\n",
    "anime['Genres']=anime.apply(lambda x : x['Genres'].replace(\" \",\"\"),axis=1 )\n",
    "anime['Genres']=anime.apply(lambda x : list(x['Genres'].split(\",\")),axis=1 )\n",
    "anime.head(3)"
   ]
  },
  {
   "cell_type": "markdown",
   "id": "3000804c",
   "metadata": {},
   "source": [
    "<a id=\"3\"></a>\n",
    "<div class=\"list-group\" id=\"list-tab\" role=\"tablist\">\n",
    "<h2 class=\"list-group-item list-group-item-action active\" data-toggle=\"list\" style='background:blueviolet; border:0; color:white' role=\"tab\" aria-controls=\"home\"><center>3. Text Processing (NLP)</center></h2>\n",
    "    \n",
    "    \n",
    "\n",
    "![nlp](https://th.bing.com/th/id/OIP.39A-LtMSZal0Sc9Fe9AIKgHaEK?pid=ImgDet&rs=1)\n",
    "    \n",
    "    \n",
    "Prima di procedere, è necessario **pre-processare** il testo.\n",
    "    \n",
    "Ci sono diversi strumenti a supporto di questa fase; oltre le **espressioni regolari** esistono diverse librerie ed alcune delle più importanti e diffuse sono **spaCy** e **NTLK**.\n"
   ]
  },
  {
   "cell_type": "markdown",
   "id": "6f2729a5",
   "metadata": {},
   "source": [
    "#### 3.1 - spaCy VS NTLK"
   ]
  },
  {
   "cell_type": "markdown",
   "id": "a08b45c2",
   "metadata": {},
   "source": [
    "![spcay](https://spacy.io/static/social_default-1d3b50b1eba4c2b06244425ff0c49570.jpg)\n",
    "![vs](https://cdn5.vectorstock.com/i/thumb-large/92/29/vs-versus-logo-vector-20389229.jpg)\n",
    "![NTLK](https://upload.wikimedia.org/wikipedia/en/thumb/8/8a/OOjs_UI_icon_edit-ltr-progressive.svg/500px-OOjs_UI_icon_edit-ltr-progressive.svg.png)"
   ]
  },
  {
   "cell_type": "markdown",
   "id": "1b8fb294",
   "metadata": {},
   "source": [
    "La differenza fondamentale tra **NLTK** e **spaCy** deriva dal modo in cui queste librerie sono state pensate. **NLTK** è essenzialmente una libreria di elaborazione delle **stringhe**, in cui ogni funzione accetta stringhe come input e restituisce una stringa elaborata.\n",
    "Al contrario, **spaCy** adotta un approccio orientato agli oggetti. Ogni funzione restituisce oggetti anziché stringhe o matrici; Inoltre, NLTK restituisce risultati **molto più lenti** rispetto a spaCy.\n",
    "\n",
    "La maggior parte delle fonti su Internet affermano che spaCy supporta solo la lingua inglese, ma questi articoli sono stati scritti alcuni anni fa. Da allora, spaCy è cresciuta fino a supportare molte lingue. Sia spaCy che NLTK supportano inglese, tedesco, francese, spagnolo, portoghese, italiano, olandese e greco.\n",
    "\n",
    "A causa delle grandi dimensioni del dataset si utilizzerà **spaCY**.\n",
    "\n",
    "\n",
    "Estratto da [NTLK VS spaCY](https://www.activestate.com/blog/natural-language-processing-nltk-vs-spacy/) "
   ]
  },
  {
   "cell_type": "markdown",
   "id": "e65d326f",
   "metadata": {},
   "source": [
    "#### 3.2 - NLP"
   ]
  },
  {
   "cell_type": "code",
   "execution_count": 17,
   "id": "2c65f7f6",
   "metadata": {},
   "outputs": [],
   "source": [
    "import spacy as sp\n",
    "from spacy.lang.en.stop_words import STOP_WORDS\n",
    "nlp = sp.load('en_core_web_sm')"
   ]
  },
  {
   "cell_type": "markdown",
   "id": "d4c65ebf",
   "metadata": {},
   "source": [
    "*Conversione da MAIUSC a MIN*"
   ]
  },
  {
   "cell_type": "code",
   "execution_count": 18,
   "id": "8e649dbd",
   "metadata": {},
   "outputs": [],
   "source": [
    "anime['sypnopsis']=anime.apply(lambda x : x['sypnopsis'].lower(),axis=1 )"
   ]
  },
  {
   "cell_type": "markdown",
   "id": "001694b8",
   "metadata": {},
   "source": [
    "*Rimozione Stop-words e punteggiatura*"
   ]
  },
  {
   "cell_type": "code",
   "execution_count": 19,
   "id": "abc850af",
   "metadata": {},
   "outputs": [],
   "source": [
    "def stop_and_punct_rm(text):\n",
    "    txt = ''\n",
    "    doc=nlp(text)\n",
    "    for i in doc:\n",
    "        if not (i.is_stop or i.is_punct ):\n",
    "            txt=txt+str(i)+\" \"\n",
    "    return txt\n",
    "\n",
    "anime['sypnopsis']=anime.apply(lambda x : stop_and_punct_rm(x['sypnopsis']),axis=1 )"
   ]
  },
  {
   "cell_type": "markdown",
   "id": "a00876da",
   "metadata": {},
   "source": [
    "*Lemmatization*"
   ]
  },
  {
   "cell_type": "code",
   "execution_count": 20,
   "id": "68ab4982",
   "metadata": {},
   "outputs": [],
   "source": [
    "def lemma(text):\n",
    "    txt = ''\n",
    "    doc=nlp(text)\n",
    "    for i in doc:\n",
    "        txt=txt+str(i.lemma_)+\" \"\n",
    "    return txt\n",
    "\n",
    "anime['sypnopsis']=anime.apply(lambda x : lemma(x['sypnopsis']),axis=1 )"
   ]
  },
  {
   "cell_type": "markdown",
   "id": "e10ba8f8",
   "metadata": {},
   "source": [
    "*Rimozione spazi*"
   ]
  },
  {
   "cell_type": "code",
   "execution_count": 21,
   "id": "5cb6532b",
   "metadata": {},
   "outputs": [],
   "source": [
    "anime['sypnopsis']=anime.apply(lambda x : x['sypnopsis'].replace(\"\\n\",\" \").strip(),axis=1 )"
   ]
  },
  {
   "cell_type": "markdown",
   "id": "73b85426",
   "metadata": {},
   "source": [
    "*Rimozione numeri*"
   ]
  },
  {
   "cell_type": "code",
   "execution_count": 22,
   "id": "5655d80d",
   "metadata": {},
   "outputs": [],
   "source": [
    "def rm_number(text):\n",
    "    text = re.sub(\"[0-9]\", \"\", text) \n",
    "    return text\n",
    "anime['sypnopsis']=anime.apply(lambda x : rm_number(x['sypnopsis']),axis=1 )"
   ]
  },
  {
   "cell_type": "markdown",
   "id": "e6f41494",
   "metadata": {},
   "source": [
    "*Esempio riassunto post elaborazione*"
   ]
  },
  {
   "cell_type": "code",
   "execution_count": 23,
   "id": "9549f4d9",
   "metadata": {},
   "outputs": [
    {
     "data": {
      "text/plain": [
       "'edward elric young brilliant alchemist lose year life brother alphonse try resurrect dead mother forbid act human transmutation edward lose brother limbs supreme alchemy skills edward binds alphonse soul large suit armor year later edward promote fullmetal alchemist state embark journey young brother obtain philosopher stone fable mythical object rumor capable amplify alchemist ability leap bound allow override fundamental law alchemy gain alchemist sacrifice equal value edward hope draw military resource find fabled stone restore alphonse body normal elric brother soon discover legendary stone meet eye lead epicenter far dark battle imagine'"
      ]
     },
     "execution_count": 23,
     "metadata": {},
     "output_type": "execute_result"
    }
   ],
   "source": [
    "anime['sypnopsis'][100]"
   ]
  },
  {
   "cell_type": "markdown",
   "id": "2605ba04",
   "metadata": {},
   "source": [
    "<a id=\"4\"></a>\n",
    "<div class=\"list-group\" id=\"list-tab\" role=\"tablist\">\n",
    "<h2 class=\"list-group-item list-group-item-action active\" data-toggle=\"list\" style='background:deeppink; border:0; color:white' role=\"tab\" aria-controls=\"home\"><center>4. Analisi</center></h2>\n",
    "    \n",
    "    \n",
    "\n",
    "![eda](https://workhorseconsulting.net/wp-content/uploads/2020/05/DataAnalysisProcess.jpg)\n",
    "    \n",
    "    \n",
    "L'utilizzo di un determinato dataset per l'implementazione di algoritmi di machine learning richiede necessariamente un'**analisi**.\n",
    "    \n",
    "Il processo di analisi aiuta a comprendere meglio le caratteristiche dei dati e come questi sono \"distribuiti\" all'interno del dataset; la conoscenza di queste informazioni è estremamente utile per determinare l'approccio al dataset in fase di implementazione e interpretazione (dei risultati) dei vari algoritmi di machine learning.\n"
   ]
  },
  {
   "cell_type": "markdown",
   "id": "d3921ba4",
   "metadata": {},
   "source": [
    "Proviamo ad analizzare i generi (dopo averli convertiti in colonne binarie)"
   ]
  },
  {
   "cell_type": "code",
   "execution_count": 24,
   "id": "188ca866",
   "metadata": {},
   "outputs": [
    {
     "data": {
      "text/html": [
       "<div>\n",
       "<style scoped>\n",
       "    .dataframe tbody tr th:only-of-type {\n",
       "        vertical-align: middle;\n",
       "    }\n",
       "\n",
       "    .dataframe tbody tr th {\n",
       "        vertical-align: top;\n",
       "    }\n",
       "\n",
       "    .dataframe thead th {\n",
       "        text-align: right;\n",
       "    }\n",
       "</style>\n",
       "<table border=\"1\" class=\"dataframe\">\n",
       "  <thead>\n",
       "    <tr style=\"text-align: right;\">\n",
       "      <th></th>\n",
       "      <th>sypnopsis</th>\n",
       "      <th>Action</th>\n",
       "      <th>Adventure</th>\n",
       "      <th>Cars</th>\n",
       "      <th>Comedy</th>\n",
       "      <th>Dementia</th>\n",
       "      <th>Demons</th>\n",
       "      <th>Drama</th>\n",
       "      <th>Ecchi</th>\n",
       "      <th>Fantasy</th>\n",
       "      <th>...</th>\n",
       "      <th>Shounen</th>\n",
       "      <th>ShounenAi</th>\n",
       "      <th>SliceofLife</th>\n",
       "      <th>Space</th>\n",
       "      <th>Sports</th>\n",
       "      <th>SuperPower</th>\n",
       "      <th>Supernatural</th>\n",
       "      <th>Thriller</th>\n",
       "      <th>Vampire</th>\n",
       "      <th>Yaoi</th>\n",
       "    </tr>\n",
       "  </thead>\n",
       "  <tbody>\n",
       "    <tr>\n",
       "      <th>0</th>\n",
       "      <td>year  humanity colonize planet moon solar syst...</td>\n",
       "      <td>1</td>\n",
       "      <td>1</td>\n",
       "      <td>0</td>\n",
       "      <td>1</td>\n",
       "      <td>0</td>\n",
       "      <td>0</td>\n",
       "      <td>1</td>\n",
       "      <td>0</td>\n",
       "      <td>0</td>\n",
       "      <td>...</td>\n",
       "      <td>0</td>\n",
       "      <td>0</td>\n",
       "      <td>0</td>\n",
       "      <td>1</td>\n",
       "      <td>0</td>\n",
       "      <td>0</td>\n",
       "      <td>0</td>\n",
       "      <td>0</td>\n",
       "      <td>0</td>\n",
       "      <td>0</td>\n",
       "    </tr>\n",
       "    <tr>\n",
       "      <th>1</th>\n",
       "      <td>day bounty life unlucky crew bebop routine int...</td>\n",
       "      <td>1</td>\n",
       "      <td>0</td>\n",
       "      <td>0</td>\n",
       "      <td>0</td>\n",
       "      <td>0</td>\n",
       "      <td>0</td>\n",
       "      <td>1</td>\n",
       "      <td>0</td>\n",
       "      <td>0</td>\n",
       "      <td>...</td>\n",
       "      <td>0</td>\n",
       "      <td>0</td>\n",
       "      <td>0</td>\n",
       "      <td>1</td>\n",
       "      <td>0</td>\n",
       "      <td>0</td>\n",
       "      <td>0</td>\n",
       "      <td>0</td>\n",
       "      <td>0</td>\n",
       "      <td>0</td>\n",
       "    </tr>\n",
       "    <tr>\n",
       "      <th>2</th>\n",
       "      <td>vash stampede man $ $ ,,, bounty head reason m...</td>\n",
       "      <td>1</td>\n",
       "      <td>1</td>\n",
       "      <td>0</td>\n",
       "      <td>1</td>\n",
       "      <td>0</td>\n",
       "      <td>0</td>\n",
       "      <td>1</td>\n",
       "      <td>0</td>\n",
       "      <td>0</td>\n",
       "      <td>...</td>\n",
       "      <td>1</td>\n",
       "      <td>0</td>\n",
       "      <td>0</td>\n",
       "      <td>0</td>\n",
       "      <td>0</td>\n",
       "      <td>0</td>\n",
       "      <td>0</td>\n",
       "      <td>0</td>\n",
       "      <td>0</td>\n",
       "      <td>0</td>\n",
       "    </tr>\n",
       "  </tbody>\n",
       "</table>\n",
       "<p>3 rows × 42 columns</p>\n",
       "</div>"
      ],
      "text/plain": [
       "                                           sypnopsis  Action  Adventure  Cars  \\\n",
       "0  year  humanity colonize planet moon solar syst...       1          1     0   \n",
       "1  day bounty life unlucky crew bebop routine int...       1          0     0   \n",
       "2  vash stampede man $ $ ,,, bounty head reason m...       1          1     0   \n",
       "\n",
       "   Comedy  Dementia  Demons  Drama  Ecchi  Fantasy  ...  Shounen  ShounenAi  \\\n",
       "0       1         0       0      1      0        0  ...        0          0   \n",
       "1       0         0       0      1      0        0  ...        0          0   \n",
       "2       1         0       0      1      0        0  ...        1          0   \n",
       "\n",
       "   SliceofLife  Space  Sports  SuperPower  Supernatural  Thriller  Vampire  \\\n",
       "0            0      1       0           0             0         0        0   \n",
       "1            0      1       0           0             0         0        0   \n",
       "2            0      0       0           0             0         0        0   \n",
       "\n",
       "   Yaoi  \n",
       "0     0  \n",
       "1     0  \n",
       "2     0  \n",
       "\n",
       "[3 rows x 42 columns]"
      ]
     },
     "execution_count": 24,
     "metadata": {},
     "output_type": "execute_result"
    }
   ],
   "source": [
    "from sklearn.preprocessing import MultiLabelBinarizer\n",
    "from sklearn.preprocessing import StandardScaler  \n",
    "\n",
    "mlb = MultiLabelBinarizer()\n",
    "labels = mlb.fit_transform(anime.Genres)\n",
    "dt = pd.concat([anime[['ID','sypnopsis']], pd.DataFrame(labels)], axis=1)\n",
    "dt.columns = ['ID','sypnopsis'] + list(mlb.classes_)\n",
    "dt = dt.drop(\"ID\",axis=1)\n",
    "dt.head(3)"
   ]
  },
  {
   "cell_type": "code",
   "execution_count": 25,
   "id": "f7ac2f2d",
   "metadata": {},
   "outputs": [
    {
     "data": {
      "text/plain": [
       "<AxesSubplot:>"
      ]
     },
     "execution_count": 25,
     "metadata": {},
     "output_type": "execute_result"
    },
    {
     "data": {
      "image/png": "[encoded data removed]",
      "text/plain": [
       "<Figure size 432x288 with 1 Axes>"
      ]
     },
     "metadata": {
      "needs_background": "light"
     },
     "output_type": "display_data"
    }
   ],
   "source": [
    "import numpy as np\n",
    "import matplotlib.pyplot as plt\n",
    "sums=dt.iloc[:, 1:].sum()\n",
    "sums=sums.to_frame()\n",
    "sums=sums.rename(columns = {0:'summ'})\n",
    "number=sums['summ']\n",
    "number.plot.bar()"
   ]
  },
  {
   "cell_type": "markdown",
   "id": "2ea22d17",
   "metadata": {},
   "source": [
    "Notiamo che il numero di elementi che appartengono ai vari generi (**etichette**) è molto vario; Ci sono generi meno presenti rispetto ad altri in maniera molto evidente.\n",
    "\n",
    "Proviamo a bilanciare il dataset eliminando i generi meno rilevanti (molti di questi sono \"sotto generi\"); questo renderà i processi di apprendimento e predizione più semplici, migliorandone le prestazioni."
   ]
  },
  {
   "cell_type": "code",
   "execution_count": 26,
   "id": "7fadc4c8",
   "metadata": {},
   "outputs": [
    {
     "name": "stdout",
     "output_type": "stream",
     "text": [
      "Record rimanenti: 8758\n"
     ]
    }
   ],
   "source": [
    "import warnings\n",
    "import pandas as ps\n",
    "\n",
    "sums=dt.iloc[:, 1:].sum()\n",
    "sums=sums.to_frame()\n",
    "sums=sums.rename(columns = {0:'summ'})\n",
    "sums=sums[sums.summ <= 100]\n",
    "sums=sums.index.tolist()\n",
    "dt=dt = dt.drop(sums, axis=1)\n",
    "\n",
    "warnings.filterwarnings('ignore')  #metodo deprecato\n",
    "sums2=dt.sum(axis=1)\n",
    "sums2=sums2.to_frame()\n",
    "sums2=sums2.rename(columns = {0:'summ'})\n",
    "dt = pd.concat([dt, sums2], axis=1)\n",
    "dt=dt[dt.summ >=2]\n",
    "dt.drop('summ', axis=1, inplace=True)\n",
    "print('Record rimanenti:',dt.shape[0])"
   ]
  },
  {
   "cell_type": "code",
   "execution_count": 27,
   "id": "d7d3849d",
   "metadata": {},
   "outputs": [],
   "source": [
    "\n",
    "dt.to_csv('final_dataset.csv') "
   ]
  },
  {
   "cell_type": "code",
   "execution_count": 28,
   "id": "86afc3e6",
   "metadata": {},
   "outputs": [
    {
     "data": {
      "text/html": [
       "<div>\n",
       "<style scoped>\n",
       "    .dataframe tbody tr th:only-of-type {\n",
       "        vertical-align: middle;\n",
       "    }\n",
       "\n",
       "    .dataframe tbody tr th {\n",
       "        vertical-align: top;\n",
       "    }\n",
       "\n",
       "    .dataframe thead th {\n",
       "        text-align: right;\n",
       "    }\n",
       "</style>\n",
       "<table border=\"1\" class=\"dataframe\">\n",
       "  <thead>\n",
       "    <tr style=\"text-align: right;\">\n",
       "      <th></th>\n",
       "      <th>sypnopsis</th>\n",
       "      <th>Action</th>\n",
       "      <th>Adventure</th>\n",
       "      <th>Comedy</th>\n",
       "      <th>Dementia</th>\n",
       "      <th>Demons</th>\n",
       "      <th>Drama</th>\n",
       "      <th>Ecchi</th>\n",
       "      <th>Fantasy</th>\n",
       "      <th>Game</th>\n",
       "      <th>...</th>\n",
       "      <th>Seinen</th>\n",
       "      <th>Shoujo</th>\n",
       "      <th>Shounen</th>\n",
       "      <th>SliceofLife</th>\n",
       "      <th>Space</th>\n",
       "      <th>Sports</th>\n",
       "      <th>SuperPower</th>\n",
       "      <th>Supernatural</th>\n",
       "      <th>Thriller</th>\n",
       "      <th>Vampire</th>\n",
       "    </tr>\n",
       "  </thead>\n",
       "  <tbody>\n",
       "    <tr>\n",
       "      <th>0</th>\n",
       "      <td>year  humanity colonize planet moon solar syst...</td>\n",
       "      <td>1</td>\n",
       "      <td>1</td>\n",
       "      <td>1</td>\n",
       "      <td>0</td>\n",
       "      <td>0</td>\n",
       "      <td>1</td>\n",
       "      <td>0</td>\n",
       "      <td>0</td>\n",
       "      <td>0</td>\n",
       "      <td>...</td>\n",
       "      <td>0</td>\n",
       "      <td>0</td>\n",
       "      <td>0</td>\n",
       "      <td>0</td>\n",
       "      <td>1</td>\n",
       "      <td>0</td>\n",
       "      <td>0</td>\n",
       "      <td>0</td>\n",
       "      <td>0</td>\n",
       "      <td>0</td>\n",
       "    </tr>\n",
       "    <tr>\n",
       "      <th>1</th>\n",
       "      <td>day bounty life unlucky crew bebop routine int...</td>\n",
       "      <td>1</td>\n",
       "      <td>0</td>\n",
       "      <td>0</td>\n",
       "      <td>0</td>\n",
       "      <td>0</td>\n",
       "      <td>1</td>\n",
       "      <td>0</td>\n",
       "      <td>0</td>\n",
       "      <td>0</td>\n",
       "      <td>...</td>\n",
       "      <td>0</td>\n",
       "      <td>0</td>\n",
       "      <td>0</td>\n",
       "      <td>0</td>\n",
       "      <td>1</td>\n",
       "      <td>0</td>\n",
       "      <td>0</td>\n",
       "      <td>0</td>\n",
       "      <td>0</td>\n",
       "      <td>0</td>\n",
       "    </tr>\n",
       "    <tr>\n",
       "      <th>2</th>\n",
       "      <td>vash stampede man $ $ ,,, bounty head reason m...</td>\n",
       "      <td>1</td>\n",
       "      <td>1</td>\n",
       "      <td>1</td>\n",
       "      <td>0</td>\n",
       "      <td>0</td>\n",
       "      <td>1</td>\n",
       "      <td>0</td>\n",
       "      <td>0</td>\n",
       "      <td>0</td>\n",
       "      <td>...</td>\n",
       "      <td>0</td>\n",
       "      <td>0</td>\n",
       "      <td>1</td>\n",
       "      <td>0</td>\n",
       "      <td>0</td>\n",
       "      <td>0</td>\n",
       "      <td>0</td>\n",
       "      <td>0</td>\n",
       "      <td>0</td>\n",
       "      <td>0</td>\n",
       "    </tr>\n",
       "  </tbody>\n",
       "</table>\n",
       "<p>3 rows × 37 columns</p>\n",
       "</div>"
      ],
      "text/plain": [
       "                                           sypnopsis  Action  Adventure  \\\n",
       "0  year  humanity colonize planet moon solar syst...       1          1   \n",
       "1  day bounty life unlucky crew bebop routine int...       1          0   \n",
       "2  vash stampede man $ $ ,,, bounty head reason m...       1          1   \n",
       "\n",
       "   Comedy  Dementia  Demons  Drama  Ecchi  Fantasy  Game  ...  Seinen  Shoujo  \\\n",
       "0       1         0       0      1      0        0     0  ...       0       0   \n",
       "1       0         0       0      1      0        0     0  ...       0       0   \n",
       "2       1         0       0      1      0        0     0  ...       0       0   \n",
       "\n",
       "   Shounen  SliceofLife  Space  Sports  SuperPower  Supernatural  Thriller  \\\n",
       "0        0            0      1       0           0             0         0   \n",
       "1        0            0      1       0           0             0         0   \n",
       "2        1            0      0       0           0             0         0   \n",
       "\n",
       "   Vampire  \n",
       "0        0  \n",
       "1        0  \n",
       "2        0  \n",
       "\n",
       "[3 rows x 37 columns]"
      ]
     },
     "execution_count": 28,
     "metadata": {},
     "output_type": "execute_result"
    }
   ],
   "source": [
    "import pandas as pd\n",
    "\n",
    "dt = pd.read_csv ('final_dataset.csv')\n",
    "dt.drop(columns=dt.columns[0], axis=1, inplace=True)\n",
    "dt.head(3)"
   ]
  },
  {
   "cell_type": "markdown",
   "id": "78eafe11",
   "metadata": {},
   "source": [
    "<a id=\"5\"></a>\n",
    "<div class=\"list-group\" id=\"list-tab\" role=\"tablist\">\n",
    "<h2 class=\"list-group-item list-group-item-action active\" data-toggle=\"list\" style='background:darkslategray; border:0; color:white' role=\"tab\" aria-controls=\"home\"><center>5. Implementazione e confronto  dei classificatori</center></h2>\n",
    "    \n",
    "![ia](https://en.agictech.com/media/1809/machine-learning.jpg)    \n",
    "    \n",
    "In primis, dividiamo il dataset in **train** e **test** set per verificare che i due insiemi abbiano le stesse caratteristiche."
   ]
  },
  {
   "cell_type": "markdown",
   "id": "26144cb8",
   "metadata": {},
   "source": [
    "Estrazione classi"
   ]
  },
  {
   "cell_type": "code",
   "execution_count": 29,
   "id": "627a56e3",
   "metadata": {},
   "outputs": [
    {
     "data": {
      "text/html": [
       "<div>\n",
       "<style scoped>\n",
       "    .dataframe tbody tr th:only-of-type {\n",
       "        vertical-align: middle;\n",
       "    }\n",
       "\n",
       "    .dataframe tbody tr th {\n",
       "        vertical-align: top;\n",
       "    }\n",
       "\n",
       "    .dataframe thead th {\n",
       "        text-align: right;\n",
       "    }\n",
       "</style>\n",
       "<table border=\"1\" class=\"dataframe\">\n",
       "  <thead>\n",
       "    <tr style=\"text-align: right;\">\n",
       "      <th></th>\n",
       "      <th>Action</th>\n",
       "      <th>Adventure</th>\n",
       "      <th>Comedy</th>\n",
       "      <th>Dementia</th>\n",
       "      <th>Demons</th>\n",
       "      <th>Drama</th>\n",
       "      <th>Ecchi</th>\n",
       "      <th>Fantasy</th>\n",
       "      <th>Game</th>\n",
       "      <th>Harem</th>\n",
       "      <th>...</th>\n",
       "      <th>Seinen</th>\n",
       "      <th>Shoujo</th>\n",
       "      <th>Shounen</th>\n",
       "      <th>SliceofLife</th>\n",
       "      <th>Space</th>\n",
       "      <th>Sports</th>\n",
       "      <th>SuperPower</th>\n",
       "      <th>Supernatural</th>\n",
       "      <th>Thriller</th>\n",
       "      <th>Vampire</th>\n",
       "    </tr>\n",
       "  </thead>\n",
       "  <tbody>\n",
       "    <tr>\n",
       "      <th>0</th>\n",
       "      <td>1</td>\n",
       "      <td>1</td>\n",
       "      <td>1</td>\n",
       "      <td>0</td>\n",
       "      <td>0</td>\n",
       "      <td>1</td>\n",
       "      <td>0</td>\n",
       "      <td>0</td>\n",
       "      <td>0</td>\n",
       "      <td>0</td>\n",
       "      <td>...</td>\n",
       "      <td>0</td>\n",
       "      <td>0</td>\n",
       "      <td>0</td>\n",
       "      <td>0</td>\n",
       "      <td>1</td>\n",
       "      <td>0</td>\n",
       "      <td>0</td>\n",
       "      <td>0</td>\n",
       "      <td>0</td>\n",
       "      <td>0</td>\n",
       "    </tr>\n",
       "    <tr>\n",
       "      <th>1</th>\n",
       "      <td>1</td>\n",
       "      <td>0</td>\n",
       "      <td>0</td>\n",
       "      <td>0</td>\n",
       "      <td>0</td>\n",
       "      <td>1</td>\n",
       "      <td>0</td>\n",
       "      <td>0</td>\n",
       "      <td>0</td>\n",
       "      <td>0</td>\n",
       "      <td>...</td>\n",
       "      <td>0</td>\n",
       "      <td>0</td>\n",
       "      <td>0</td>\n",
       "      <td>0</td>\n",
       "      <td>1</td>\n",
       "      <td>0</td>\n",
       "      <td>0</td>\n",
       "      <td>0</td>\n",
       "      <td>0</td>\n",
       "      <td>0</td>\n",
       "    </tr>\n",
       "    <tr>\n",
       "      <th>2</th>\n",
       "      <td>1</td>\n",
       "      <td>1</td>\n",
       "      <td>1</td>\n",
       "      <td>0</td>\n",
       "      <td>0</td>\n",
       "      <td>1</td>\n",
       "      <td>0</td>\n",
       "      <td>0</td>\n",
       "      <td>0</td>\n",
       "      <td>0</td>\n",
       "      <td>...</td>\n",
       "      <td>0</td>\n",
       "      <td>0</td>\n",
       "      <td>1</td>\n",
       "      <td>0</td>\n",
       "      <td>0</td>\n",
       "      <td>0</td>\n",
       "      <td>0</td>\n",
       "      <td>0</td>\n",
       "      <td>0</td>\n",
       "      <td>0</td>\n",
       "    </tr>\n",
       "  </tbody>\n",
       "</table>\n",
       "<p>3 rows × 36 columns</p>\n",
       "</div>"
      ],
      "text/plain": [
       "   Action  Adventure  Comedy  Dementia  Demons  Drama  Ecchi  Fantasy  Game  \\\n",
       "0       1          1       1         0       0      1      0        0     0   \n",
       "1       1          0       0         0       0      1      0        0     0   \n",
       "2       1          1       1         0       0      1      0        0     0   \n",
       "\n",
       "   Harem  ...  Seinen  Shoujo  Shounen  SliceofLife  Space  Sports  \\\n",
       "0      0  ...       0       0        0            0      1       0   \n",
       "1      0  ...       0       0        0            0      1       0   \n",
       "2      0  ...       0       0        1            0      0       0   \n",
       "\n",
       "   SuperPower  Supernatural  Thriller  Vampire  \n",
       "0           0             0         0        0  \n",
       "1           0             0         0        0  \n",
       "2           0             0         0        0  \n",
       "\n",
       "[3 rows x 36 columns]"
      ]
     },
     "execution_count": 29,
     "metadata": {},
     "output_type": "execute_result"
    }
   ],
   "source": [
    "from sklearn.model_selection import train_test_split\n",
    "\n",
    "#Estraggo i generi\n",
    "y= dt.iloc[: , 1:]\n",
    "y.head(3)\n"
   ]
  },
  {
   "cell_type": "markdown",
   "id": "e7a15013",
   "metadata": {},
   "source": [
    "Poichè i dati sono testuali, usiamo **TF-IDF** sui riassunti."
   ]
  },
  {
   "cell_type": "code",
   "execution_count": 30,
   "id": "63dd4a66",
   "metadata": {},
   "outputs": [
    {
     "data": {
      "text/plain": [
       "<8758x32725 sparse matrix of type '<class 'numpy.float64'>'\n",
       "\twith 363268 stored elements in Compressed Sparse Row format>"
      ]
     },
     "execution_count": 30,
     "metadata": {},
     "output_type": "execute_result"
    }
   ],
   "source": [
    "from sklearn.feature_extraction.text import TfidfVectorizer\n",
    "vectorizer = TfidfVectorizer()\n",
    "X = vectorizer.fit_transform(dt['sypnopsis'])\n",
    "X"
   ]
  },
  {
   "cell_type": "code",
   "execution_count": 31,
   "id": "0197f484",
   "metadata": {},
   "outputs": [],
   "source": [
    "Xtrain,Xtest,ytrain,ytest = train_test_split(X,y,test_size =0.20)"
   ]
  },
  {
   "cell_type": "markdown",
   "id": "a6d9c397",
   "metadata": {},
   "source": [
    "#### 5.1 - Approcci diversi"
   ]
  },
  {
   "cell_type": "markdown",
   "id": "30454192",
   "metadata": {},
   "source": [
    "Per effettuare una classificazione multi-label bisogna effettuare delle \"trasformazioni\" in modo da adattare i vari algoritmia problemi in cui gli item possono appartenere a più classi. In generale ci sono 3 approcci principali:\n",
    "    \n",
    "- **Binary relevance**: Questa tecnica tratta ogni etichetta in modo indipendente e quindi il problema viene trasformato in più problemi di classificazione singola.\n",
    "\n",
    "\n",
    "- **Classifier chains**: In questa tecnica, abbiamo più classificatori collegati in una catena. Si tratta di un processo sequenziale in cui un output di un classificatore viene utilizzato come input del classificatore successivo nella catena.\n",
    "\n",
    "\n",
    "- **Label powerset**: Trasforma il problema in un problema multi-classe. Ogni classificatore multiclasse viene quindi addestrato con combinazioni di etichette univoche presenti nei dati.L'obiettivo è trovare una combinazione di etichette univoche e assegnare loro valori diversi.\n",
    "\n",
    "\n",
    "    \n"
   ]
  },
  {
   "cell_type": "code",
   "execution_count": 32,
   "id": "65aab32a",
   "metadata": {},
   "outputs": [],
   "source": [
    "from skmultilearn.problem_transform import BinaryRelevance\n",
    "from skmultilearn.problem_transform import ClassifierChain\n",
    "from skmultilearn.problem_transform import LabelPowerset\n",
    "\n",
    "import time"
   ]
  },
  {
   "cell_type": "markdown",
   "id": "740caacc",
   "metadata": {},
   "source": [
    "#### 5.2 - Metriche"
   ]
  },
  {
   "cell_type": "markdown",
   "id": "2a00be21",
   "metadata": {},
   "source": [
    "A causa della natura \"sparsa\" del dataset, è necessario scegliere delle metriche di valutazione adatte;Ad esempio,con i dati presi in considerazione potrebbe non essere conveniente usare l'accuratezza, proprio a causa dei dati estremamente sparpagliati.\n",
    "Le metriche utilizzate, dunque, sono le seguenti:\n",
    "    \n",
    "- **Macro F1**: Il punteggio F1 macro viene calcolato utilizzando la media aritmetica (ovvero la media non ponderata) di tutti i punteggi F1 per classe.\n",
    "\n",
    "\n",
    "- **Micro F1**: La micro media calcola un punteggio F1 medio globale contando le somme dei veri positivi (TP), dei falsi negativi (FN) e dei falsi positivi (FP).\n",
    "\n",
    "\n",
    "- **Hamming**: La perdita di Hamming viene utilizzata per determinare la frazione di previsioni errate di un determinato modello. *Minore è la perdita di hamming, migliore è il nostro modello nel fare previsioni.*\n"
   ]
  },
  {
   "cell_type": "code",
   "execution_count": 33,
   "id": "ef34f5c3",
   "metadata": {},
   "outputs": [],
   "source": [
    "from sklearn.metrics import f1_score\n",
    "from sklearn.metrics import hamming_loss"
   ]
  },
  {
   "cell_type": "markdown",
   "id": "9d186d8e",
   "metadata": {},
   "source": [
    "#### 5.3 - Random Forest\n",
    "\n",
    "Random Forest è un metodo di apprendimento \"ensemble\" che utilizza più alberi decisionali per ottenere risultati migliori. Il risultato finale sarà quello più frequente tra tutti gli esiti dei vari alberi."
   ]
  },
  {
   "cell_type": "markdown",
   "id": "320525a5",
   "metadata": {},
   "source": [
    "![rf](https://miro.medium.com/max/1732/0*x5qFXPNNnbMqMO82)"
   ]
  },
  {
   "cell_type": "code",
   "execution_count": 34,
   "id": "b28c4adc",
   "metadata": {},
   "outputs": [
    {
     "name": "stdout",
     "output_type": "stream",
     "text": [
      "RandomForest - BinaryRelevance\n",
      "Macro F1 ->  16.77 %\n",
      "Micro F1 ->  28.21 %\n",
      "Hamming  ->  8.98 %\n",
      "training time taken:  495.0 seconds\n",
      "prediction time taken:  495.0 seconds\n",
      "RandomForest - ClassifierChain\n",
      "Macro F1 ->  14.89 %\n",
      "Micro F1 ->  26.42 %\n",
      "Hamming  ->  9.1 %\n",
      "training time taken:  434.0 seconds\n",
      "prediction time taken:  434.0 seconds\n",
      "RandomForest - LabelPowerset\n",
      "Macro F1 ->  40.88 %\n",
      "Micro F1 ->  47.76 %\n",
      "Hamming  ->  9.99 %\n",
      "training time taken:  506.0 seconds\n",
      "prediction time taken:  506.0 seconds\n"
     ]
    }
   ],
   "source": [
    "from sklearn.ensemble import RandomForestClassifier\n",
    "\n",
    "print(\"RandomForest - BinaryRelevance\")\n",
    "start=time.time()\n",
    "classifier = BinaryRelevance(classifier=RandomForestClassifier(),require_dense = [False, True])\n",
    "classifier.fit(Xtrain, ytrain)\n",
    "predictions = classifier.predict(Xtest)\n",
    "macro_f1 = f1_score(ytest, predictions, average='macro')\n",
    "micro_f1 = f1_score(ytest, predictions, average='micro')\n",
    "hamLoss = hamming_loss(ytest, predictions)\n",
    "print('Macro F1 -> ',round((macro_f1)*100,2),\"%\")\n",
    "print('Micro F1 -> ',round((micro_f1)*100,2),\"%\")\n",
    "print('Hamming  -> ',round((hamLoss)*100,2),\"%\")\n",
    "print('training time taken: ',round(time.time()-start,0),'seconds')\n",
    "print('prediction time taken: ',round(time.time()-start,0),'seconds')\n",
    "\n",
    "print(\"RandomForest - ClassifierChain\")\n",
    "start=time.time()\n",
    "classifier = ClassifierChain(classifier=RandomForestClassifier(),require_dense = [False, True])\n",
    "classifier.fit(Xtrain, ytrain)\n",
    "predictions = classifier.predict(Xtest)\n",
    "macro_f1 = f1_score(ytest, predictions, average='macro')\n",
    "micro_f1 = f1_score(ytest, predictions, average='micro')\n",
    "hamLoss = hamming_loss(ytest, predictions)\n",
    "print('Macro F1 -> ',round((macro_f1)*100,2),\"%\")\n",
    "print('Micro F1 -> ',round((micro_f1)*100,2),\"%\")\n",
    "print('Hamming  -> ',round((hamLoss)*100,2),\"%\")\n",
    "print('training time taken: ',round(time.time()-start,0),'seconds')\n",
    "print('prediction time taken: ',round(time.time()-start,0),'seconds')\n",
    "\n",
    "print(\"RandomForest - LabelPowerset\")\n",
    "start=time.time()\n",
    "classifier = LabelPowerset(classifier=RandomForestClassifier(),require_dense = [False, True])\n",
    "classifier.fit(Xtrain, ytrain)\n",
    "predictions = classifier.predict(Xtest)\n",
    "macro_f1 = f1_score(ytest, predictions, average='macro')\n",
    "micro_f1 = f1_score(ytest, predictions, average='micro')\n",
    "hamLoss = hamming_loss(ytest, predictions)\n",
    "print('Macro F1 -> ',round((macro_f1)*100,2),\"%\")\n",
    "print('Micro F1 -> ',round((micro_f1)*100,2),\"%\")\n",
    "print('Hamming  -> ',round((hamLoss)*100,2),\"%\")\n",
    "print('training time taken: ',round(time.time()-start,0),'seconds')\n",
    "print('prediction time taken: ',round(time.time()-start,0),'seconds')\n",
    "\n",
    "\n"
   ]
  },
  {
   "cell_type": "markdown",
   "id": "fae4f2b3",
   "metadata": {},
   "source": [
    "#### 5.4 - MultinomialNB\n",
    "\n",
    "L'algoritmo si basa sul teorema di Bayes e viene spesso utilizzato per la classificazione di un testo.\n",
    "![rf](https://www.edureka.co/blog/content/ver.1554115042/uploads/2019/04/Naive-Bayes-Derivation-Equation-2-Naive-Bayes-In-R-Edureka.png)"
   ]
  },
  {
   "cell_type": "code",
   "execution_count": 35,
   "id": "2df95600",
   "metadata": {},
   "outputs": [
    {
     "name": "stdout",
     "output_type": "stream",
     "text": [
      "MultinomialNB - BinaryRelevance\n",
      "Macro F1 ->  3.31 %\n",
      "Micro F1 ->  9.26 %\n",
      "Hamming  ->  9.94 %\n",
      "training time taken:  1.0 seconds\n",
      "prediction time taken:  1.0 seconds\n",
      "MultinomialNB - ClassifierChain\n",
      "Macro F1 ->  3.98 %\n",
      "Micro F1 ->  11.43 %\n",
      "Hamming  ->  9.83 %\n",
      "training time taken:  0.0 seconds\n",
      "prediction time taken:  0.0 seconds\n",
      "MultinomialNB - LabelPowerset\n",
      "Macro F1 ->  5.19 %\n",
      "Micro F1 ->  21.23 %\n",
      "Hamming  ->  12.57 %\n",
      "training time taken:  5.0 seconds\n",
      "prediction time taken:  5.0 seconds\n"
     ]
    }
   ],
   "source": [
    "from sklearn.naive_bayes import MultinomialNB\n",
    "\n",
    "print(\"MultinomialNB - BinaryRelevance\")\n",
    "start=time.time()\n",
    "classifier = BinaryRelevance(classifier=MultinomialNB(),require_dense = [False, True])\n",
    "classifier.fit(Xtrain, ytrain)\n",
    "predictions = classifier.predict(Xtest)\n",
    "macro_f1 = f1_score(ytest, predictions, average='macro')\n",
    "micro_f1 = f1_score(ytest, predictions, average='micro')\n",
    "hamLoss = hamming_loss(ytest, predictions)\n",
    "print('Macro F1 -> ',round((macro_f1)*100,2),\"%\")\n",
    "print('Micro F1 -> ',round((micro_f1)*100,2),\"%\")\n",
    "print('Hamming  -> ',round((hamLoss)*100,2),\"%\")\n",
    "print('training time taken: ',round(time.time()-start,0),'seconds')\n",
    "print('prediction time taken: ',round(time.time()-start,0),'seconds')\n",
    "\n",
    "print(\"MultinomialNB - ClassifierChain\")\n",
    "start=time.time()\n",
    "classifier = ClassifierChain(classifier=MultinomialNB(),require_dense = [False, True])\n",
    "classifier.fit(Xtrain, ytrain)\n",
    "predictions = classifier.predict(Xtest)\n",
    "macro_f1 = f1_score(ytest, predictions, average='macro')\n",
    "micro_f1 = f1_score(ytest, predictions, average='micro')\n",
    "hamLoss = hamming_loss(ytest, predictions)\n",
    "print('Macro F1 -> ',round((macro_f1)*100,2),\"%\")\n",
    "print('Micro F1 -> ',round((micro_f1)*100,2),\"%\")\n",
    "print('Hamming  -> ',round((hamLoss)*100,2),\"%\")\n",
    "print('training time taken: ',round(time.time()-start,0),'seconds')\n",
    "print('prediction time taken: ',round(time.time()-start,0),'seconds')\n",
    "\n",
    "print(\"MultinomialNB - LabelPowerset\")\n",
    "start=time.time()\n",
    "classifier = LabelPowerset(classifier=MultinomialNB(),require_dense = [False, True])\n",
    "classifier.fit(Xtrain, ytrain)\n",
    "predictions = classifier.predict(Xtest)\n",
    "macro_f1 = f1_score(ytest, predictions, average='macro')\n",
    "micro_f1 = f1_score(ytest, predictions, average='micro')\n",
    "hamLoss = hamming_loss(ytest, predictions)\n",
    "print('Macro F1 -> ',round((macro_f1)*100,2),\"%\")\n",
    "print('Micro F1 -> ',round((micro_f1)*100,2),\"%\")\n",
    "print('Hamming  -> ',round((hamLoss)*100,2),\"%\")\n",
    "print('training time taken: ',round(time.time()-start,0),'seconds')\n",
    "print('prediction time taken: ',round(time.time()-start,0),'seconds')"
   ]
  },
  {
   "cell_type": "markdown",
   "id": "e0bddae3",
   "metadata": {},
   "source": [
    "#### 5.5 - LinearSVC\n",
    "L'obiettivo di un LinearSVC (Support Vector Classifier) è quello di adattarsi ai dati forniti, restituendo un iperpiano \"best fit\" che divide o categorizza i dati. Da lì, dopo aver ottenuto l'iperpiano, puoi quindi fornire alcune funzionalità al tuo classificatore per vedere qual è la classe \"prevista\".\n",
    "![rf](https://cmsc426spring2019.github.io/assets/math/ransac3.png)"
   ]
  },
  {
   "cell_type": "code",
   "execution_count": 36,
   "id": "9bda5ce8",
   "metadata": {},
   "outputs": [
    {
     "name": "stdout",
     "output_type": "stream",
     "text": [
      "LinearSVC - BinaryRelevance\n",
      "Macro F1 ->  40.62 %\n",
      "Micro F1 ->  52.58 %\n",
      "Hamming  ->  7.55 %\n",
      "training time taken:  1.0 seconds\n",
      "prediction time taken:  1.0 seconds\n",
      "LinearSVC - ClassifierChain\n",
      "Macro F1 ->  42.83 %\n",
      "Micro F1 ->  53.76 %\n",
      "Hamming  ->  7.67 %\n",
      "training time taken:  2.0 seconds\n",
      "prediction time taken:  2.0 seconds\n",
      "LinearSVC - LabelPowerset\n",
      "Macro F1 ->  48.57 %\n",
      "Micro F1 ->  55.09 %\n",
      "Hamming  ->  9.07 %\n",
      "training time taken:  20.0 seconds\n",
      "prediction time taken:  20.0 seconds\n"
     ]
    }
   ],
   "source": [
    "from sklearn.svm import LinearSVC\n",
    "\n",
    "print(\"LinearSVC - BinaryRelevance\")\n",
    "start=time.time()\n",
    "classifier = BinaryRelevance(classifier=LinearSVC(),require_dense = [False, True])\n",
    "classifier.fit(Xtrain, ytrain)\n",
    "predictions = classifier.predict(Xtest)\n",
    "macro_f1 = f1_score(ytest, predictions, average='macro')\n",
    "micro_f1 = f1_score(ytest, predictions, average='micro')\n",
    "hamLoss = hamming_loss(ytest, predictions)\n",
    "print('Macro F1 -> ',round((macro_f1)*100,2),\"%\")\n",
    "print('Micro F1 -> ',round((micro_f1)*100,2),\"%\")\n",
    "print('Hamming  -> ',round((hamLoss)*100,2),\"%\")\n",
    "print('training time taken: ',round(time.time()-start,0),'seconds')\n",
    "print('prediction time taken: ',round(time.time()-start,0),'seconds')\n",
    "\n",
    "print(\"LinearSVC - ClassifierChain\")\n",
    "start=time.time()\n",
    "classifier = ClassifierChain(classifier=LinearSVC(),require_dense = [False, True])\n",
    "classifier.fit(Xtrain, ytrain)\n",
    "predictions = classifier.predict(Xtest)\n",
    "macro_f1 = f1_score(ytest, predictions, average='macro')\n",
    "micro_f1 = f1_score(ytest, predictions, average='micro')\n",
    "hamLoss = hamming_loss(ytest, predictions)\n",
    "print('Macro F1 -> ',round((macro_f1)*100,2),\"%\")\n",
    "print('Micro F1 -> ',round((micro_f1)*100,2),\"%\")\n",
    "print('Hamming  -> ',round((hamLoss)*100,2),\"%\")\n",
    "print('training time taken: ',round(time.time()-start,0),'seconds')\n",
    "print('prediction time taken: ',round(time.time()-start,0),'seconds')\n",
    "\n",
    "print(\"LinearSVC - LabelPowerset\")\n",
    "start=time.time()\n",
    "classifier = LabelPowerset(classifier=LinearSVC(),require_dense = [False, True])\n",
    "classifier.fit(Xtrain, ytrain)\n",
    "predictions = classifier.predict(Xtest)\n",
    "macro_f1 = f1_score(ytest, predictions, average='macro')\n",
    "micro_f1 = f1_score(ytest, predictions, average='micro')\n",
    "hamLoss = hamming_loss(ytest, predictions)\n",
    "print('Macro F1 -> ',round((macro_f1)*100,2),\"%\")\n",
    "print('Micro F1 -> ',round((micro_f1)*100,2),\"%\")\n",
    "print('Hamming  -> ',round((hamLoss)*100,2),\"%\")\n",
    "print('training time taken: ',round(time.time()-start,0),'seconds')\n",
    "print('prediction time taken: ',round(time.time()-start,0),'seconds')"
   ]
  },
  {
   "cell_type": "markdown",
   "id": "241b24f8",
   "metadata": {},
   "source": [
    "#### 5.6 - KNeighborsClassifier\n",
    "L'algoritmo Knn,scelto a priori un numero di fisso di punti, classifica gli items in base ai dati, rappresentati dai punti, che \"circondano\" il dato da classificare.\n",
    "\n",
    "\n",
    "![rf](https://th.bing.com/th/id/R.47219d9efb93c94f9a7777d5abdc90a7?rik=%2fwhHOh2968gKQw&pid=ImgRaw&r=0&sres=1&sresct=1)"
   ]
  },
  {
   "cell_type": "code",
   "execution_count": 37,
   "id": "7e9a809e",
   "metadata": {},
   "outputs": [
    {
     "name": "stdout",
     "output_type": "stream",
     "text": [
      "KNeighborsClassifier - BinaryRelevance\n",
      "Macro F1 ->  41.26 %\n",
      "Micro F1 ->  47.92 %\n",
      "Hamming  ->  8.49 %\n",
      "training time taken:  15.0 seconds\n",
      "prediction time taken:  15.0 seconds\n",
      "KNeighborsClassifier - ClassifierChain\n",
      "Macro F1 ->  36.24 %\n",
      "Micro F1 ->  45.39 %\n",
      "Hamming  ->  10.09 %\n",
      "training time taken:  17.0 seconds\n",
      "prediction time taken:  17.0 seconds\n",
      "KNeighborsClassifier - LabelPowerset\n",
      "Macro F1 ->  37.02 %\n",
      "Micro F1 ->  44.52 %\n",
      "Hamming  ->  10.75 %\n",
      "training time taken:  1.0 seconds\n",
      "prediction time taken:  1.0 seconds\n"
     ]
    }
   ],
   "source": [
    "from sklearn.neighbors import KNeighborsClassifier\n",
    "print(\"KNeighborsClassifier - BinaryRelevance\")\n",
    "start=time.time()\n",
    "classifier = BinaryRelevance(classifier=KNeighborsClassifier(),require_dense = [False, True])\n",
    "classifier.fit(Xtrain, ytrain)\n",
    "predictions = classifier.predict(Xtest)\n",
    "macro_f1 = f1_score(ytest, predictions, average='macro')\n",
    "micro_f1 = f1_score(ytest, predictions, average='micro')\n",
    "hamLoss = hamming_loss(ytest, predictions)\n",
    "print('Macro F1 -> ',round((macro_f1)*100,2),\"%\")\n",
    "print('Micro F1 -> ',round((micro_f1)*100,2),\"%\")\n",
    "print('Hamming  -> ',round((hamLoss)*100,2),\"%\")\n",
    "print('training time taken: ',round(time.time()-start,0),'seconds')\n",
    "print('prediction time taken: ',round(time.time()-start,0),'seconds')\n",
    "\n",
    "print(\"KNeighborsClassifier - ClassifierChain\")\n",
    "start=time.time()\n",
    "classifier = ClassifierChain(classifier=KNeighborsClassifier(),require_dense = [False, True])\n",
    "classifier.fit(Xtrain, ytrain)\n",
    "predictions = classifier.predict(Xtest)\n",
    "macro_f1 = f1_score(ytest, predictions, average='macro')\n",
    "micro_f1 = f1_score(ytest, predictions, average='micro')\n",
    "hamLoss = hamming_loss(ytest, predictions)\n",
    "print('Macro F1 -> ',round((macro_f1)*100,2),\"%\")\n",
    "print('Micro F1 -> ',round((micro_f1)*100,2),\"%\")\n",
    "print('Hamming  -> ',round((hamLoss)*100,2),\"%\")\n",
    "print('training time taken: ',round(time.time()-start,0),'seconds')\n",
    "print('prediction time taken: ',round(time.time()-start,0),'seconds')\n",
    "\n",
    "print(\"KNeighborsClassifier - LabelPowerset\")\n",
    "start=time.time()\n",
    "classifier = LabelPowerset(classifier=KNeighborsClassifier(),require_dense = [False, True])\n",
    "classifier.fit(Xtrain, ytrain)\n",
    "predictions = classifier.predict(Xtest)\n",
    "macro_f1 = f1_score(ytest, predictions, average='macro')\n",
    "micro_f1 = f1_score(ytest, predictions, average='micro')\n",
    "hamLoss = hamming_loss(ytest, predictions)\n",
    "print('Macro F1 -> ',round((macro_f1)*100,2),\"%\")\n",
    "print('Micro F1 -> ',round((micro_f1)*100,2),\"%\")\n",
    "print('Hamming  -> ',round((hamLoss)*100,2),\"%\")\n",
    "print('training time taken: ',round(time.time()-start,0),'seconds')\n",
    "print('prediction time taken: ',round(time.time()-start,0),'seconds')\n"
   ]
  },
  {
   "cell_type": "markdown",
   "id": "300cb8c6",
   "metadata": {},
   "source": [
    "#### 5.7 - Rete Neurale - MLP\n",
    "\n",
    "Il Percettrone multistrato (in acronimo MLP dall'inglese Multilayer perceptron) è un modello di rete neurale artificiale che mappa insiemi di dati in ingresso in un insieme di dati in uscita appropriati.\n",
    "\n",
    "È fatta di strati multipli di nodi in un grafo diretto, con ogni strato completamente connesso al successivo. Eccetto che per i nodi in ingresso, ogni nodo è un neurone (elemento elaborante) a cui è associata una funzione di attivazione lineare. Il Percettrone multistrato usa una tecnica di apprendimento supervisionato chiamata backpropagation per l'allenamento della rete.\n",
    "\n",
    "La MLP è una modifica del Percettrone lineare standard e può distinguere i dati che non sono separabili linearmente.\n",
    "\n",
    "*fonte:* Wikipedia\n",
    "![rf](https://www.researchgate.net/profile/Ahmed-Thabit-2/publication/315561192/figure/download/fig4/AS:475189663277059@1490305452719/Figure-4-MLP-neural-network-structure-The-weights-of-the-neural-network-are-updated-in.png)"
   ]
  },
  {
   "cell_type": "markdown",
   "id": "a0f550a4",
   "metadata": {},
   "source": [
    "A causa dei tempi di addestramento e predizione estremamente lunghi, in particolare con gli adattamenti **LabelPowerset e ClassifierChain**, verrà utilizzato solo la BinaryRelevance.\n",
    "Dopo una serie di prove,i parametri per l'addestramento della rete che hanno dato i risultati migliori in termini di tempo e validazione sono i seguenti:\n",
    "- **hidden_layer_sizes** = 150 -> rappresenta il numero di neuroni nell'i-esimo strato nascosto.\n",
    "\n",
    "- **max_iter** = 250 -> Numero massimo di iterazioni. Il risolutore itera fino alla convergenza (determinata da 'tol') o questo numero di iterazioni.\n",
    "\n",
    "- **activation** = \"relu\" -> Funzione di attivazione \n",
    "\n",
    "- **early_stopping** = True -> Blocca l'addestramento se il risultato non migliora\n",
    "\n",
    "- **learning_rate** = 'adaptive' -> 'adattivo' mantiene il tasso di apprendimento costante a 'learning_rate_init' finché la perdita di allenamento continua a diminuire. \n",
    "- **solver** = 'lbfgs' -> algoritmo di ottimizzazione\n",
    "\n",
    "- **hidden_layer_sizes**: 150 -> il numero di neuroni nell'i-esimo strato nascosto.\n",
    "\n",
    "*fonte*: https://scikit-learn.org/stable/modules/generated/sklearn.neural_network.MLPClassifier.html"
   ]
  },
  {
   "cell_type": "code",
   "execution_count": 49,
   "id": "d59c0885",
   "metadata": {},
   "outputs": [
    {
     "name": "stdout",
     "output_type": "stream",
     "text": [
      "MLPClassifier - BinaryRelevance\n",
      "Macro F1 ->  47.65 %\n",
      "Micro F1 ->  55.24 %\n",
      "Hamming  ->  7.81 %\n",
      "training time taken:  1545.0 seconds\n",
      "prediction time taken:  1545.0 seconds\n"
     ]
    }
   ],
   "source": [
    "from sklearn.neural_network import MLPClassifier\n",
    "print(\"MLPClassifier - BinaryRelevance\")\n",
    "start=time.time()\n",
    "classifier = BinaryRelevance(classifier=MLPClassifier(hidden_layer_sizes=150,random_state=100,solver='lbfgs', max_iter=250,activation=\"relu\",early_stopping=True),require_dense = [False, True])\n",
    "classifier.fit(Xtrain, ytrain)\n",
    "predictions = classifier.predict(Xtest)\n",
    "macro_f1 = f1_score(ytest, predictions, average='macro')\n",
    "micro_f1 = f1_score(ytest, predictions, average='micro')\n",
    "hamLoss = hamming_loss(ytest, predictions)\n",
    "print('Macro F1 -> ',round((macro_f1)*100,2),\"%\")\n",
    "print('Micro F1 -> ',round((micro_f1)*100,2),\"%\")\n",
    "print('Hamming  -> ',round((hamLoss)*100,2),\"%\")\n",
    "print('training time taken: ',round(time.time()-start,0),'seconds')\n",
    "print('prediction time taken: ',round(time.time()-start,0),'seconds')"
   ]
  },
  {
   "cell_type": "markdown",
   "id": "6bf7e996",
   "metadata": {},
   "source": [
    "<a id=\"6\"></a>\n",
    "<div class=\"list-group\" id=\"list-tab\" role=\"tablist\">\n",
    "<h2 class=\"list-group-item list-group-item-action active\" data-toggle=\"list\" style='background:light-blue; border:0; color:white' role=\"tab\" aria-controls=\"home\"><center>Conclusione e considerazioni finali</center></h2>\n",
    "    "
   ]
  },
  {
   "cell_type": "markdown",
   "id": "375b9167",
   "metadata": {},
   "source": [
    "Tra tutti gli algoritmi testati, nonostante i tempi di addestramento e predizione molto lunghi e risultati non ottimali, il classificatore MLP risulta essere il migliore, nonostante la differenza con LinearSVC in Labelpowerset sia davvero minima. Il peggiore, invece, è il Multinomial Naive Bayes.\n",
    "\n",
    "Da notare come i risultati, in termini di tempo e metrcihe di validazione, cambi radicalmente modificando il tipo di adattamento utilizzato: considerando il Random Forest si nota una grossa differenza di risultati tra LabelPowerset e gli altri metodi.\n",
    "\n",
    "Inoltre, è possibile notare che generalmente, il metodo di adattamento migliore è LabelPowerset.\n",
    "\n",
    "In conclusione si può affermare che, a causa della scarsa qualità dei dati che risultano essere sparsi e con sinossi non adatte, non è possibile ottenere un classificatore ideale per il dataset in esame."
   ]
  }
 ],
 "metadata": {
  "kernelspec": {
   "display_name": "Python 3 (ipykernel)",
   "language": "python",
   "name": "python3"
  },
  "language_info": {
   "codemirror_mode": {
    "name": "ipython",
    "version": 3
   },
   "file_extension": ".py",
   "mimetype": "text/x-python",
   "name": "python",
   "nbconvert_exporter": "python",
   "pygments_lexer": "ipython3",
   "version": "3.9.7"
  }
 },
 "nbformat": 4,
 "nbformat_minor": 5
}
